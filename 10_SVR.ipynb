{
 "cells": [
  {
   "cell_type": "markdown",
   "id": "6c1acf1b-f322-424e-b30d-40bf78227a78",
   "metadata": {},
   "source": [
    "<font color=\"yellow\" size=\"6\">Support Vector Regression (SVR)</font>"
   ]
  },
  {
   "cell_type": "markdown",
   "id": "146d0d5d-a9c3-4ab6-8a8f-ade4450cd36f",
   "metadata": {},
   "source": [
    "Support Vector Regression (SVR) is best used in specific scenarios where its characteristics align with the problem at hand. \n",
    "Below are situations when SVR is a good choice:\n",
    "1. Non-Linear Relationships\n",
    "\n",
    "    When to Use: The relationship between input features and the target variable is non-linear, and the exact nature of the relationship is unknown.\n",
    "    Why SVR: The kernel trick allows SVR to capture complex patterns in data by transforming it into higher dimensions (e.g., RBF kernel).\n",
    "\n",
    "2. High-Dimensional Data\n",
    "\n",
    "    When to Use: The dataset has a large number of features compared to the number of samples.\n",
    "    Why SVR: SVR performs well in high-dimensional spaces because it focuses on a subset of the training data (support vectors), reducing overfitting risks.\n",
    "\n",
    "3. Small to Medium-Sized Datasets\n",
    "\n",
    "    When to Use: The dataset size is relatively small or moderate (e.g., hundreds to thousands of samples).\n",
    "    Why SVR: SVR is computationally expensive for very large datasets because of its quadratic scaling with the number of samples.\n",
    "\n",
    "4. Outlier Tolerance\n",
    "\n",
    "    When to Use: The target variable has some outliers, but they should not dominate the regression model.\n",
    "    Why SVR: The epsilon parameter in SVR defines a margin of tolerance for errors, making the model robust to small deviations or noise.\n",
    "\n",
    "5. Focus on Prediction Accuracy Around a Margin\n",
    "\n",
    "    When to Use: You care about getting predictions close to the true value within a specific tolerance, rather than minimizing errors absolutely.\n",
    "    Why SVR: SVR minimizes error only when predictions fall outside the epsilon margin, allowing for more flexibility in modeling.\n",
    "\n",
    "6. Feature Scaling is Feasible\n",
    "\n",
    "    When to Use: The features can be easily standardized or scaled.\n",
    "    Why SVR: SVR is sensitive to feature scaling, and proper standardization helps it perform optimally."
   ]
  },
  {
   "cell_type": "markdown",
   "id": "30594eca-1938-43b5-99fd-284ca4472034",
   "metadata": {},
   "source": [
    "<b>When Not to Use SVR:</b>\n",
    "\n",
    "    Very Large Datasets:\n",
    "        SVR can be computationally expensive for datasets with millions of samples. Consider other scalable algorithms like Random Forests or Gradient Boosted Trees.\n",
    "\n",
    "    Sparse or Categorical Data:\n",
    "        SVR struggles with datasets that contain many categorical or sparse features. Tree-based models like XGBoost or CatBoost are better suited.\n",
    "\n",
    "    Interpretability:\n",
    "        If you need an interpretable model, SVR is not ideal. Linear regression or decision trees are easier to understand and explain."
   ]
  },
  {
   "cell_type": "code",
   "execution_count": 1,
   "id": "3ce3782d-44ff-4e04-a48b-f70c9b47490b",
   "metadata": {},
   "outputs": [],
   "source": [
    "from sklearn.datasets import load_wine\n",
    "from sklearn.model_selection import train_test_split\n",
    "from sklearn.svm import SVR\n",
    "from sklearn.preprocessing import StandardScaler\n",
    "from sklearn.metrics import mean_squared_error, r2_score\n",
    "import matplotlib.pyplot as plt"
   ]
  },
  {
   "cell_type": "code",
   "execution_count": 2,
   "id": "0349bcd0-4c7d-47f8-9f41-6413f01e6744",
   "metadata": {},
   "outputs": [],
   "source": [
    "# Load the wine dataset\n",
    "data = load_wine()\n",
    "X = data.data  # Features\n",
    "y = data.target  # Use 'target' (class label) for regression\n",
    "\n",
    "# Optional: Use a specific feature as the target (e.g., 'Alcohol')\n",
    "# y = data.data[:, 0]  # Uncomment to use 'Alcohol' content as the target variable"
   ]
  },
  {
   "cell_type": "code",
   "execution_count": 3,
   "id": "66c990ca-d46f-4504-9358-0fe2ad94ef07",
   "metadata": {},
   "outputs": [],
   "source": [
    "# Split into training and testing datasets\n",
    "X_train, X_test, y_train, y_test = train_test_split(X, y, test_size=0.2, random_state=42)"
   ]
  },
  {
   "cell_type": "code",
   "execution_count": 4,
   "id": "b1c4bbc8-e538-48a5-a990-6b4e4e7b0c42",
   "metadata": {},
   "outputs": [],
   "source": [
    "# Standardize the data (important for SVR)\n",
    "scaler_X = StandardScaler()\n",
    "scaler_y = StandardScaler()\n",
    "\n",
    "X_train = scaler_X.fit_transform(X_train)\n",
    "X_test = scaler_X.transform(X_test)\n",
    "\n",
    "# Reshape y for StandardScaler\n",
    "y_train = scaler_y.fit_transform(y_train.reshape(-1, 1)).ravel()\n",
    "y_test_scaled = scaler_y.transform(y_test.reshape(-1, 1)).ravel()"
   ]
  },
  {
   "cell_type": "markdown",
   "id": "8d6a2352-f5ee-4c40-af67-691541f2cf5b",
   "metadata": {},
   "source": [
    "<b>SVR Configuration:</b>\n",
    "\n",
    "    kernel='rbf': Radial Basis Function (RBF) kernel for non-linear regression.\n",
    "    C=100: Regularization parameter.\n",
    "    gamma=0.1: Kernel coefficient for RBF kernel.\n",
    "    epsilon=0.1: Tolerance for error in the predictions."
   ]
  },
  {
   "cell_type": "code",
   "execution_count": 5,
   "id": "de9dd62a-f86f-44b7-8873-6d455a29d303",
   "metadata": {},
   "outputs": [
    {
     "data": {
      "text/html": [
       "<style>#sk-container-id-1 {color: black;}#sk-container-id-1 pre{padding: 0;}#sk-container-id-1 div.sk-toggleable {background-color: white;}#sk-container-id-1 label.sk-toggleable__label {cursor: pointer;display: block;width: 100%;margin-bottom: 0;padding: 0.3em;box-sizing: border-box;text-align: center;}#sk-container-id-1 label.sk-toggleable__label-arrow:before {content: \"▸\";float: left;margin-right: 0.25em;color: #696969;}#sk-container-id-1 label.sk-toggleable__label-arrow:hover:before {color: black;}#sk-container-id-1 div.sk-estimator:hover label.sk-toggleable__label-arrow:before {color: black;}#sk-container-id-1 div.sk-toggleable__content {max-height: 0;max-width: 0;overflow: hidden;text-align: left;background-color: #f0f8ff;}#sk-container-id-1 div.sk-toggleable__content pre {margin: 0.2em;color: black;border-radius: 0.25em;background-color: #f0f8ff;}#sk-container-id-1 input.sk-toggleable__control:checked~div.sk-toggleable__content {max-height: 200px;max-width: 100%;overflow: auto;}#sk-container-id-1 input.sk-toggleable__control:checked~label.sk-toggleable__label-arrow:before {content: \"▾\";}#sk-container-id-1 div.sk-estimator input.sk-toggleable__control:checked~label.sk-toggleable__label {background-color: #d4ebff;}#sk-container-id-1 div.sk-label input.sk-toggleable__control:checked~label.sk-toggleable__label {background-color: #d4ebff;}#sk-container-id-1 input.sk-hidden--visually {border: 0;clip: rect(1px 1px 1px 1px);clip: rect(1px, 1px, 1px, 1px);height: 1px;margin: -1px;overflow: hidden;padding: 0;position: absolute;width: 1px;}#sk-container-id-1 div.sk-estimator {font-family: monospace;background-color: #f0f8ff;border: 1px dotted black;border-radius: 0.25em;box-sizing: border-box;margin-bottom: 0.5em;}#sk-container-id-1 div.sk-estimator:hover {background-color: #d4ebff;}#sk-container-id-1 div.sk-parallel-item::after {content: \"\";width: 100%;border-bottom: 1px solid gray;flex-grow: 1;}#sk-container-id-1 div.sk-label:hover label.sk-toggleable__label {background-color: #d4ebff;}#sk-container-id-1 div.sk-serial::before {content: \"\";position: absolute;border-left: 1px solid gray;box-sizing: border-box;top: 0;bottom: 0;left: 50%;z-index: 0;}#sk-container-id-1 div.sk-serial {display: flex;flex-direction: column;align-items: center;background-color: white;padding-right: 0.2em;padding-left: 0.2em;position: relative;}#sk-container-id-1 div.sk-item {position: relative;z-index: 1;}#sk-container-id-1 div.sk-parallel {display: flex;align-items: stretch;justify-content: center;background-color: white;position: relative;}#sk-container-id-1 div.sk-item::before, #sk-container-id-1 div.sk-parallel-item::before {content: \"\";position: absolute;border-left: 1px solid gray;box-sizing: border-box;top: 0;bottom: 0;left: 50%;z-index: -1;}#sk-container-id-1 div.sk-parallel-item {display: flex;flex-direction: column;z-index: 1;position: relative;background-color: white;}#sk-container-id-1 div.sk-parallel-item:first-child::after {align-self: flex-end;width: 50%;}#sk-container-id-1 div.sk-parallel-item:last-child::after {align-self: flex-start;width: 50%;}#sk-container-id-1 div.sk-parallel-item:only-child::after {width: 0;}#sk-container-id-1 div.sk-dashed-wrapped {border: 1px dashed gray;margin: 0 0.4em 0.5em 0.4em;box-sizing: border-box;padding-bottom: 0.4em;background-color: white;}#sk-container-id-1 div.sk-label label {font-family: monospace;font-weight: bold;display: inline-block;line-height: 1.2em;}#sk-container-id-1 div.sk-label-container {text-align: center;}#sk-container-id-1 div.sk-container {/* jupyter's `normalize.less` sets `[hidden] { display: none; }` but bootstrap.min.css set `[hidden] { display: none !important; }` so we also need the `!important` here to be able to override the default hidden behavior on the sphinx rendered scikit-learn.org. See: https://github.com/scikit-learn/scikit-learn/issues/21755 */display: inline-block !important;position: relative;}#sk-container-id-1 div.sk-text-repr-fallback {display: none;}</style><div id=\"sk-container-id-1\" class=\"sk-top-container\"><div class=\"sk-text-repr-fallback\"><pre>SVR(C=100, gamma=0.1)</pre><b>In a Jupyter environment, please rerun this cell to show the HTML representation or trust the notebook. <br />On GitHub, the HTML representation is unable to render, please try loading this page with nbviewer.org.</b></div><div class=\"sk-container\" hidden><div class=\"sk-item\"><div class=\"sk-estimator sk-toggleable\"><input class=\"sk-toggleable__control sk-hidden--visually\" id=\"sk-estimator-id-1\" type=\"checkbox\" checked><label for=\"sk-estimator-id-1\" class=\"sk-toggleable__label sk-toggleable__label-arrow\">SVR</label><div class=\"sk-toggleable__content\"><pre>SVR(C=100, gamma=0.1)</pre></div></div></div></div></div>"
      ],
      "text/plain": [
       "SVR(C=100, gamma=0.1)"
      ]
     },
     "execution_count": 5,
     "metadata": {},
     "output_type": "execute_result"
    }
   ],
   "source": [
    "# Define and train the SVR model\n",
    "svr = SVR(kernel='rbf', C=100, gamma=0.1, epsilon=0.1)\n",
    "svr.fit(X_train, y_train)"
   ]
  },
  {
   "cell_type": "code",
   "execution_count": 6,
   "id": "24adaa79-5519-4a7d-bb33-3567708e593a",
   "metadata": {},
   "outputs": [],
   "source": [
    "# Make predictions\n",
    "y_pred_scaled = svr.predict(X_test)\n",
    "y_pred = scaler_y.inverse_transform(y_pred_scaled.reshape(-1, 1)).ravel()"
   ]
  },
  {
   "cell_type": "code",
   "execution_count": 7,
   "id": "806f4a2d-165e-42b5-927c-dad19f9c98a7",
   "metadata": {},
   "outputs": [],
   "source": [
    "# Evaluate the model\n",
    "mse = mean_squared_error(y_test, y_pred)\n",
    "r2 = r2_score(y_test, y_pred)\n"
   ]
  },
  {
   "cell_type": "code",
   "execution_count": 8,
   "id": "2fa512ff-8c74-4248-8078-04098ceb427a",
   "metadata": {},
   "outputs": [
    {
     "name": "stdout",
     "output_type": "stream",
     "text": [
      "Support Vector Regression on Wine Dataset\n",
      "Mean Squared Error (MSE): 0.0274\n",
      "R2 Score: 0.9530\n"
     ]
    }
   ],
   "source": [
    "print(f\"Support Vector Regression on Wine Dataset\")\n",
    "print(f\"Mean Squared Error (MSE): {mse:.4f}\")\n",
    "print(f\"R2 Score: {r2:.4f}\")"
   ]
  },
  {
   "cell_type": "code",
   "execution_count": 9,
   "id": "68fe8d4e-afd0-4fc6-84fe-0b0955f0a6de",
   "metadata": {},
   "outputs": [
    {
     "data": {
      "image/png": "[encoded data removed]",
      "text/plain": [
       "<Figure size 640x480 with 1 Axes>"
      ]
     },
     "metadata": {},
     "output_type": "display_data"
    }
   ],
   "source": [
    "# Visualization: True vs Predicted Values\n",
    "plt.scatter(y_test, y_pred, color='blue', alpha=0.6)\n",
    "plt.plot([min(y_test), max(y_test)], [min(y_test), max(y_test)], color='red', linestyle='--', label='Ideal Fit')\n",
    "plt.xlabel(\"True Values\")\n",
    "plt.ylabel(\"Predicted Values\")\n",
    "plt.title(\"SVR Predictions on Wine Dataset\")\n",
    "plt.legend()\n",
    "plt.show()"
   ]
  },
  {
   "cell_type": "code",
   "execution_count": null,
   "id": "82a0d2c0-0b93-4b62-849d-cd4321b974c1",
   "metadata": {},
   "outputs": [],
   "source": []
  }
 ],
 "metadata": {
  "kernelspec": {
   "display_name": "Python 3 (ipykernel)",
   "language": "python",
   "name": "python3"
  },
  "language_info": {
   "codemirror_mode": {
    "name": "ipython",
    "version": 3
   },
   "file_extension": ".py",
   "mimetype": "text/x-python",
   "name": "python",
   "nbconvert_exporter": "python",
   "pygments_lexer": "ipython3",
   "version": "3.8.20"
  }
 },
 "nbformat": 4,
 "nbformat_minor": 5
}
