{
 "cells": [
  {
   "cell_type": "markdown",
   "id": "0cf17f33-01fe-40d0-b32a-c03f1a516daa",
   "metadata": {},
   "source": [
    "<P> <B> <font color=yellow size=\"6\"> Stepwise Regression with Backward Elimination Using mlxtend </Font></B> </P>"
   ]
  },
  {
   "cell_type": "code",
   "execution_count": 21,
   "id": "255ca218-7cea-422a-9dde-77c4d96bcfab",
   "metadata": {},
   "outputs": [],
   "source": [
    "from sklearn.datasets import load_wine\n",
    "from sklearn.metrics import mean_squared_error, r2_score\n",
    "from sklearn.model_selection import train_test_split\n",
    "from sklearn.linear_model import LinearRegression\n",
    "from sklearn.preprocessing import StandardScaler\n",
    "from mlxtend.feature_selection import SequentialFeatureSelector as SFS\n",
    "import pandas as pd\n",
    "import numpy as np"
   ]
  },
  {
   "cell_type": "code",
   "execution_count": 22,
   "id": "0a77e765-aa1c-4f08-9494-666a76d1bc52",
   "metadata": {},
   "outputs": [],
   "source": [
    "# Load the wine dataset\n",
    "wine = load_wine()\n",
    "X = pd.DataFrame(wine.data, columns=wine.feature_names)\n",
    "y = wine.target + 0.1 * wine.data[:, 0]  # Convert target to continuous for regression"
   ]
  },
  {
   "cell_type": "code",
   "execution_count": 23,
   "id": "7cfc68eb-40f1-42b4-88b7-8f11a10f755c",
   "metadata": {},
   "outputs": [],
   "source": [
    "# Split into training and testing sets\n",
    "X_train, X_test, y_train, y_test = train_test_split(X, y, test_size=0.2, random_state=42)"
   ]
  },
  {
   "cell_type": "code",
   "execution_count": 24,
   "id": "b5705c27-f112-40e9-b890-c4ebd9de0293",
   "metadata": {},
   "outputs": [],
   "source": [
    "# Standardize the features\n",
    "scaler = StandardScaler()\n",
    "X_train_scaled = scaler.fit_transform(X_train)\n",
    "X_test_scaled = scaler.transform(X_test)"
   ]
  },
  {
   "cell_type": "code",
   "execution_count": 25,
   "id": "7a8fc8a6-4a70-457f-bab2-03068584dc9d",
   "metadata": {},
   "outputs": [],
   "source": [
    "# Initialize the Linear Regression model\n",
    "lr = LinearRegression()"
   ]
  },
  {
   "cell_type": "code",
   "execution_count": 26,
   "id": "61bea3fb-e9aa-4dcc-8535-8f07fbbdcbda",
   "metadata": {},
   "outputs": [],
   "source": [
    "# Perform backward elimination using mlxtend\n",
    "sfs = SFS(\n",
    "    lr,\n",
    "    k_features=4,      # Start from all features, reducing until k=1\n",
    "    forward=False,     # Backward elimination\n",
    "    floating=False,    # No floating; features are only added/removed\n",
    "    scoring='r2',      # Use R² as the evaluation metric\n",
    "    cv=5,              # 5-fold cross-validation\n",
    "    n_jobs=-1          # Use all available CPU cores\n",
    ")\n"
   ]
  },
  {
   "cell_type": "code",
   "execution_count": 27,
   "id": "3ee87f1c-8933-481a-bf5a-215d0382d282",
   "metadata": {},
   "outputs": [],
   "source": [
    "# Fit the feature selector\n",
    "sfs = sfs.fit(X_train_scaled, y_train)"
   ]
  },
  {
   "cell_type": "code",
   "execution_count": 28,
   "id": "b099a40a-2d4a-4c69-8662-b6ac530bbc4b",
   "metadata": {},
   "outputs": [],
   "source": [
    "# Get the selected feature indices and names\n",
    "selected_indices = sfs.k_feature_idx_\n",
    "selected_features = [X.columns[i] for i in selected_indices]"
   ]
  },
  {
   "cell_type": "code",
   "execution_count": 29,
   "id": "1b3677ee-310d-4cbd-84b5-13ed360c6753",
   "metadata": {},
   "outputs": [],
   "source": [
    "# Train a model using the selected features\n",
    "X_train_selected = X_train_scaled[:, selected_indices]\n",
    "X_test_selected = X_test_scaled[:, selected_indices]\n",
    "lr.fit(X_train_selected, y_train)\n",
    "y_pred_test = lr.predict(X_test_selected)"
   ]
  },
  {
   "cell_type": "code",
   "execution_count": 30,
   "id": "6449e90b-4ba2-4192-b241-ea20b3989929",
   "metadata": {},
   "outputs": [
    {
     "name": "stdout",
     "output_type": "stream",
     "text": [
      "Selected Features: ['flavanoids', 'color_intensity', 'od280/od315_of_diluted_wines', 'proline']\n",
      "Test Set Mean Squared Error: 0.0745\n",
      "Test Set R² Score: 0.8627\n"
     ]
    }
   ],
   "source": [
    "# Evaluate the model\n",
    "mse_test = mean_squared_error(y_test, y_pred_test)\n",
    "r2_test = r2_score(y_test, y_pred_test)\n",
    "\n",
    "print(\"Selected Features:\", selected_features)\n",
    "print(f\"Test Set Mean Squared Error: {mse_test:.4f}\")\n",
    "print(f\"Test Set R² Score: {r2_test:.4f}\")"
   ]
  },
  {
   "cell_type": "code",
   "execution_count": null,
   "id": "906f5757-793d-4010-a8f7-c9fd7022f115",
   "metadata": {},
   "outputs": [],
   "source": []
  }
 ],
 "metadata": {
  "kernelspec": {
   "display_name": "Python 3 (ipykernel)",
   "language": "python",
   "name": "python3"
  },
  "language_info": {
   "codemirror_mode": {
    "name": "ipython",
    "version": 3
   },
   "file_extension": ".py",
   "mimetype": "text/x-python",
   "name": "python",
   "nbconvert_exporter": "python",
   "pygments_lexer": "ipython3",
   "version": "3.8.18"
  }
 },
 "nbformat": 4,
 "nbformat_minor": 5
}
