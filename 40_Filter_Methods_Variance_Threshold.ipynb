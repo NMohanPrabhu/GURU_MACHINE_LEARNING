{
 "cells": [
  {
   "cell_type": "markdown",
   "id": "02d3825d-04ab-410d-84e6-464532ef4e40",
   "metadata": {},
   "source": [
    "<font color=\"red\" size=\"6\">Filter Methods</font>\n",
    "<p><font color=\"Yellow\" size=\"4\">1_Variance Threshold</font>"
   ]
  },
  {
   "cell_type": "markdown",
   "id": "86814bc8-7617-4dda-a759-c2e9fef7ecbc",
   "metadata": {},
   "source": [
    "<b><font color=\"blue\">Variance Threshold :</font></b>\n",
    "The Variance Threshold feature selection method removes features with low variance, assuming that low-variance features provide less information for the model."
   ]
  },
  {
   "cell_type": "markdown",
   "id": "edb4954f-2ba1-4107-bd7e-9602a082b057",
   "metadata": {},
   "source": [
    "<b>Steps:</b>\n",
    "<ol>\n",
    "   <li> Calculate the variance of each feature in the dataset.</li>\n",
    "   <li> Remove features with variance below a predefined threshold.</li></ol>"
   ]
  },
  {
   "cell_type": "code",
   "execution_count": 1,
   "id": "7aa3d40c-b4fb-4b5b-be39-e9db03713902",
   "metadata": {},
   "outputs": [],
   "source": [
    "import numpy as np\n",
    "import pandas as pd\n",
    "from sklearn.feature_selection import VarianceThreshold"
   ]
  },
  {
   "cell_type": "code",
   "execution_count": 2,
   "id": "8934b845-0f07-45ed-8ee3-f2393a621ac1",
   "metadata": {},
   "outputs": [],
   "source": [
    "# Create a sample dataset\n",
    "data = {\n",
    "    \"Feature1\": [1, 1, 1, 1, 1],   # Variance = 0\n",
    "    \"Feature2\": [1, 2, 3, 4, 5],   # Variance = 2.5\n",
    "    \"Feature3\": [5, 5, 5, 5, 5],   # Variance = 0\n",
    "    \"Feature4\": [1, 0, 1, 0, 1]    # Variance = 0.25\n",
    "}"
   ]
  },
  {
   "cell_type": "code",
   "execution_count": 3,
   "id": "7a2010e9-bb7a-4841-bf05-367e13ea7897",
   "metadata": {},
   "outputs": [
    {
     "name": "stdout",
     "output_type": "stream",
     "text": [
      "Original Dataset:\n",
      "   Feature1  Feature2  Feature3  Feature4\n",
      "0         1         1         5         1\n",
      "1         1         2         5         0\n",
      "2         1         3         5         1\n",
      "3         1         4         5         0\n",
      "4         1         5         5         1\n"
     ]
    }
   ],
   "source": [
    "df = pd.DataFrame(data)\n",
    "print(\"Original Dataset:\")\n",
    "print(df)"
   ]
  },
  {
   "cell_type": "code",
   "execution_count": 4,
   "id": "06f8555b-f65b-42be-8f9f-65cb9a8010c9",
   "metadata": {},
   "outputs": [],
   "source": [
    "# Apply Variance Threshold\n",
    "selector = VarianceThreshold(threshold=0.1)  # Set threshold\n",
    "X_selected = selector.fit_transform(df)"
   ]
  },
  {
   "cell_type": "code",
   "execution_count": 5,
   "id": "48a35d16-8ba1-4ed3-b49f-a0765a3e1b1e",
   "metadata": {},
   "outputs": [
    {
     "name": "stdout",
     "output_type": "stream",
     "text": [
      "\n",
      "Selected Features:\n",
      "Index(['Feature2', 'Feature4'], dtype='object')\n"
     ]
    }
   ],
   "source": [
    "# Get the selected features\n",
    "selected_columns = df.columns[selector.get_support()]\n",
    "print(\"\\nSelected Features:\")\n",
    "print(selected_columns)"
   ]
  },
  {
   "cell_type": "code",
   "execution_count": 6,
   "id": "c6740794-58e9-493e-adc0-da4f250b298f",
   "metadata": {},
   "outputs": [
    {
     "name": "stdout",
     "output_type": "stream",
     "text": [
      "\n",
      "Dataset After Applying Variance Threshold:\n",
      "   Feature2  Feature4\n",
      "0         1         1\n",
      "1         2         0\n",
      "2         3         1\n",
      "3         4         0\n",
      "4         5         1\n"
     ]
    }
   ],
   "source": [
    "# Display the resulting dataset\n",
    "df_selected = pd.DataFrame(X_selected, columns=selected_columns)\n",
    "print(\"\\nDataset After Applying Variance Threshold:\")\n",
    "print(df_selected)"
   ]
  },
  {
   "cell_type": "markdown",
   "id": "ee77f861-07bc-4311-82f8-952c597b12ef",
   "metadata": {},
   "source": [
    "Variance Threshold on the Iris Dataset"
   ]
  },
  {
   "cell_type": "code",
   "execution_count": 7,
   "id": "31b8ab09-9692-44b0-96d4-9687d2b26074",
   "metadata": {},
   "outputs": [
    {
     "name": "stdout",
     "output_type": "stream",
     "text": [
      "Original Features: ['sepal length (cm)', 'sepal width (cm)', 'petal length (cm)', 'petal width (cm)']\n",
      "Selected Features: ['sepal length (cm)', 'petal length (cm)', 'petal width (cm)']\n",
      "Original shape: (150, 4)\n",
      "Reduced shape: (150, 3)\n"
     ]
    }
   ],
   "source": [
    "from sklearn.datasets import load_iris\n",
    "from sklearn.feature_selection import VarianceThreshold\n",
    "\n",
    "# Load the Iris dataset\n",
    "iris = load_iris()\n",
    "X = iris.data\n",
    "feature_names = iris.feature_names\n",
    "\n",
    "# Apply Variance Threshold\n",
    "selector = VarianceThreshold(threshold=0.2)  # Example threshold\n",
    "X_selected = selector.fit_transform(X)\n",
    "\n",
    "# Selected feature indices and names\n",
    "selected_indices = selector.get_support(indices=True)\n",
    "selected_features = [feature_names[i] for i in selected_indices]\n",
    "\n",
    "print(\"Original Features:\", feature_names)\n",
    "print(\"Selected Features:\", selected_features)\n",
    "\n",
    "# Display the shape of the datasets\n",
    "print(\"Original shape:\", X.shape)\n",
    "print(\"Reduced shape:\", X_selected.shape)\n"
   ]
  },
  {
   "cell_type": "markdown",
   "id": "9af1afdb-1e87-45e1-9cd3-7076b9300c5a",
   "metadata": {},
   "source": [
    "<b><font color=\"pink\">Threshold Value:</font></b>\n",
    "</ol>\n",
    "    <li>Adjust the threshold parameter to control which features are removed.</li><li> Features with variance below this value are dropped.</li>\n",
    "    <li>Common values: 0.01 (low threshold) to 0.1 (moderate).</li></ol>\n",
    "\n",
    "<b><font color=\"pink\">Scaling Impact:</font></b>\n",
    "</ol>\n",
    "    <li>If the dataset isn’t scaled, features with larger magnitudes might dominate.</li><li> Consider scaling (e.g., StandardScaler) before applying the threshold.</li></ol>"
   ]
  },
  {
   "cell_type": "code",
   "execution_count": null,
   "id": "8956a3e1-192e-452e-be91-59bfbd06b2f3",
   "metadata": {},
   "outputs": [],
   "source": []
  }
 ],
 "metadata": {
  "kernelspec": {
   "display_name": "Python 3 (ipykernel)",
   "language": "python",
   "name": "python3"
  },
  "language_info": {
   "codemirror_mode": {
    "name": "ipython",
    "version": 3
   },
   "file_extension": ".py",
   "mimetype": "text/x-python",
   "name": "python",
   "nbconvert_exporter": "python",
   "pygments_lexer": "ipython3",
   "version": "3.8.20"
  }
 },
 "nbformat": 4,
 "nbformat_minor": 5
}
