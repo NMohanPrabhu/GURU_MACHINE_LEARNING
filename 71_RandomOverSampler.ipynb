{
 "cells": [
  {
   "cell_type": "markdown",
   "id": "30d50fc7-88cc-4dbd-93b9-c199124278ad",
   "metadata": {},
   "source": [
    "<font color=\"Yellow\" size=\"6\">Techniques for handling imbalanced datasets</font>\n",
    "<P><font color=\"red\" size=\"5\">1_RandomOverSampler</font>"
   ]
  },
  {
   "cell_type": "code",
   "execution_count": null,
   "id": "3a3cbc88-f4ac-4676-bbaf-1d6019f75fed",
   "metadata": {},
   "outputs": [],
   "source": [
    "#pip install imbalanced-learn"
   ]
  },
  {
   "cell_type": "markdown",
   "id": "f7e6ec42-5202-4a78-8d68-7138a2f37287",
   "metadata": {},
   "source": [
    "<b><font color=\"yellow\" size=4>RandomOverSampler</font><b>\n",
    "<p>\n",
    "The RandomOverSampler from the imbalanced-learn library is a technique used to oversample the minority class in imbalanced datasets. It randomly replicates instances from the minority class to balance the class distribution."
   ]
  },
  {
   "cell_type": "code",
   "execution_count": 2,
   "id": "5e3da0a0-f8e7-44b6-b27f-0e8d8970b360",
   "metadata": {},
   "outputs": [
    {
     "name": "stdout",
     "output_type": "stream",
     "text": [
      "Class distribution before oversampling: Counter({0: 898, 1: 102})\n",
      "Class distribution after oversampling: Counter({0: 898, 1: 898})\n"
     ]
    }
   ],
   "source": [
    "import numpy as np\n",
    "import pandas as pd\n",
    "from imblearn.over_sampling import RandomOverSampler\n",
    "from sklearn.datasets import make_classification\n",
    "from collections import Counter\n",
    "\n",
    "# Step 1: Create a synthetic imbalanced dataset\n",
    "X, y = make_classification(n_samples=1000, n_features=20, n_informative=2, \n",
    "                            n_redundant=10, n_classes=2, weights=[0.9, 0.1], \n",
    "                            random_state=42)\n",
    "\n",
    "# Step 2: Check the class distribution before oversampling\n",
    "print(\"Class distribution before oversampling:\", Counter(y))\n",
    "\n",
    "# Step 3: Apply RandomOverSampler\n",
    "ros = RandomOverSampler(random_state=42)\n",
    "X_resampled, y_resampled = ros.fit_resample(X, y)\n",
    "\n",
    "# Step 4: Check the class distribution after oversampling\n",
    "print(\"Class distribution after oversampling:\", Counter(y_resampled))\n"
   ]
  },
  {
   "cell_type": "markdown",
   "id": "09350f0d-cab1-4154-8a14-dddff60b5e4d",
   "metadata": {},
   "source": [
    "<p><b> n_samples=1000:</b>This specifies the total number of samples in the dataset.In this case, it generates 1000 samples (rows).\n",
    "<p> <b>n_features=20 :</b> This defines the total number of features (or columns) in the dataset.\n",
    "    In this case, the dataset will have 20 features (columns).\n",
    "<p><b>n_informative=2 :</b> This specifies how many of the features are informative, i.e., the number of features that contain actual information that can be used to distinguish between classes.\n",
    "    Here, 2 features are informative, meaning they contribute to the decision boundary of the classifier.\n",
    "<p> <b>n_redundant=10 : </b>This parameter defines the number of redundant features, which are features that are generated as linear combinations of the informative features.\n",
    "    In this case, 10 features will be redundant, meaning they don't provide any new information but are created based on the informative features.\n",
    "<p><b>n_classes=2 :</b>This defines the number of classes (labels) in the dataset.\n",
    "    Here, the dataset will have 2 classes, which is typical for binary classification problems.\n",
    "<p><b>weights=[0.9, 0.1] :</b>\n",
    "    This parameter controls the class distribution.\n",
    "    The weights argument is a list that defines the proportion of each class in the dataset.\n",
    "    The first value in the list (0.9) corresponds to the proportion of samples for the majority class (class 0).\n",
    "    The second value (0.1) corresponds to the proportion of samples for the minority class (class 1).\n",
    "    In this case, 90% of the samples belong to class 0 (majority class) and 10% belong to class 1 (minority class), which creates an imbalanced dataset.\n",
    "\n",
    "<p><b>random_state=42 :</b>\n",
    "<ol>\n",
    "    <li>This is a random seed that ensures the reproducibility of the dataset generation.</li>\n",
    "    <li>By setting random_state=42, the dataset will be generated in the same way every time you run the code, ensuring that the dataset is the same across different runs (for consistency in results).</li></ol>"
   ]
  },
  {
   "cell_type": "markdown",
   "id": "56d15ab4-a956-4955-b3d0-5ddf1886b729",
   "metadata": {},
   "source": [
    "<font color=\"pink\" size=4>Advantages of Using RandomOverSampler:</font>\n",
    "<ol>\n",
    "    <li><font color=\"orange\">Balancing the Dataset:</font> It helps to balance the dataset by increasing the number of minority class samples.</li>\n",
    "    <li><font color=\"orange\">Simple and Effective:</font> It is a simple technique and works well when the class imbalance is not too severe.</li>\n",
    "    <li><font color=\"orange\">Works Well with Other Algorithms:</font> After balancing, you can apply various machine learning algorithms (e.g., logistic regression, decision trees, etc.) to train the model with a more balanced dataset.</li></ol>\n",
    "\n",
    "<font color=\"pink\" size=4>Potential Drawbacks:\n",
    "<ol>\n",
    "    <li><font color=\"orange\">Overfitting:</font> Since it simply replicates existing samples from the minority class, it can lead to overfitting as the minority class becomes more redundant.</li>\n",
    "    <li><font color=\"orange\">Loss of Information:</font> In cases of extreme class imbalance, oversampling might not be enough to solve the problem and might still result in poor model performance.</li></ol>"
   ]
  },
  {
   "cell_type": "markdown",
   "id": "35d7d50a-c5b3-4597-bbd5-33381bde48f8",
   "metadata": {},
   "source": []
  },
  {
   "cell_type": "code",
   "execution_count": null,
   "id": "98918ca5-4a07-4b8a-bae7-ea93616faa6c",
   "metadata": {},
   "outputs": [],
   "source": []
  }
 ],
 "metadata": {
  "kernelspec": {
   "display_name": "Python 3 (ipykernel)",
   "language": "python",
   "name": "python3"
  },
  "language_info": {
   "codemirror_mode": {
    "name": "ipython",
    "version": 3
   },
   "file_extension": ".py",
   "mimetype": "text/x-python",
   "name": "python",
   "nbconvert_exporter": "python",
   "pygments_lexer": "ipython3",
   "version": "3.8.20"
  }
 },
 "nbformat": 4,
 "nbformat_minor": 5
}
