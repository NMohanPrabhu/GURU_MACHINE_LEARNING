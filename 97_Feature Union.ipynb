{
 "cells": [
  {
   "cell_type": "markdown",
   "id": "a168409d-a7b3-4057-897c-bbac312ed327",
   "metadata": {},
   "source": [
    "<font color=\"Yellow\" size=\"6\"> Feature Union</font>"
   ]
  },
  {
   "cell_type": "markdown",
   "id": "97998280-5f9e-4524-b887-b1c12d2adab8",
   "metadata": {},
   "source": [
    "FeatureUnion allows you to apply multiple transformers to the same dataset in parallel and then combine their results. It is useful when you want to extract different kinds of features (e.g., scaled features, dimensionality-reduced features) from the data and combine them into one unified output that can be fed into a model."
   ]
  },
  {
   "cell_type": "markdown",
   "id": "3fb1542d-54bf-4433-8499-b9c3cca84278",
   "metadata": {},
   "source": [
    "Using FeatureUnion to Apply PCA and Scaling Simultaneously\n",
    "\n",
    "In this example, we'll apply two transformers in parallel using FeatureUnion:\n",
    "\n",
    "    PCA (Principal Component Analysis) to reduce the dimensionality.\n",
    "    StandardScaler to standardize the data (i.e., scale the features)."
   ]
  },
  {
   "cell_type": "code",
   "execution_count": 1,
   "id": "d04c6487-1f70-4fb7-9799-4e5e552092bb",
   "metadata": {},
   "outputs": [
    {
     "name": "stdout",
     "output_type": "stream",
     "text": [
      "Accuracy: 1.0\n"
     ]
    }
   ],
   "source": [
    "from sklearn.decomposition import PCA\n",
    "from sklearn.preprocessing import StandardScaler\n",
    "from sklearn.ensemble import RandomForestClassifier\n",
    "from sklearn.datasets import load_wine\n",
    "from sklearn.model_selection import train_test_split\n",
    "from sklearn.pipeline import FeatureUnion, Pipeline\n",
    "from sklearn.metrics import accuracy_score\n",
    "\n",
    "# Load dataset\n",
    "wine = load_wine()\n",
    "X = wine.data\n",
    "y = wine.target\n",
    "\n",
    "# Split the data into training and test sets\n",
    "X_train, X_test, y_train, y_test = train_test_split(X, y, test_size=0.2, random_state=42)\n",
    "\n",
    "# Define FeatureUnion with two transformers: StandardScaler and PCA\n",
    "feature_union = FeatureUnion([\n",
    "    ('scaler', StandardScaler()),  # Step 1: Apply StandardScaler\n",
    "    ('pca', PCA(n_components=2))   # Step 2: Apply PCA for dimensionality reduction\n",
    "])\n",
    "\n",
    "# Define a pipeline with FeatureUnion for feature extraction and RandomForestClassifier for modeling\n",
    "pipeline = Pipeline([\n",
    "    ('features', feature_union),      # Step 1: Apply FeatureUnion\n",
    "    ('classifier', RandomForestClassifier(random_state=42))  # Step 2: Classifier step\n",
    "])\n",
    "\n",
    "# Fit the pipeline on the training data\n",
    "pipeline.fit(X_train, y_train)\n",
    "\n",
    "# Make predictions and evaluate the model\n",
    "y_pred = pipeline.predict(X_test)\n",
    "print(\"Accuracy:\", accuracy_score(y_test, y_pred))\n"
   ]
  },
  {
   "cell_type": "code",
   "execution_count": null,
   "id": "e6f02ed8-c74b-4a79-ad45-ec2870de15f9",
   "metadata": {},
   "outputs": [],
   "source": []
  }
 ],
 "metadata": {
  "kernelspec": {
   "display_name": "Python 3 (ipykernel)",
   "language": "python",
   "name": "python3"
  },
  "language_info": {
   "codemirror_mode": {
    "name": "ipython",
    "version": 3
   },
   "file_extension": ".py",
   "mimetype": "text/x-python",
   "name": "python",
   "nbconvert_exporter": "python",
   "pygments_lexer": "ipython3",
   "version": "3.8.19"
  }
 },
 "nbformat": 4,
 "nbformat_minor": 5
}
