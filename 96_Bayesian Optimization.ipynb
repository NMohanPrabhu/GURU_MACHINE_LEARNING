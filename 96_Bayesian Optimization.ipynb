{
 "cells": [
  {
   "cell_type": "markdown",
   "id": "3f3b354b-4073-4e61-b7d0-770c8266dc3e",
   "metadata": {},
   "source": [
    "<font color=\"turquoise\" size=\"6\">Hyperparameter Tuning</font>\n",
    "<p><font color=\"turquoise\" size=\"6\">3_Bayesian Optimization</font>"
   ]
  },
  {
   "cell_type": "markdown",
   "id": "cc7448e8-fec3-4593-9d22-1c87d56cdd5d",
   "metadata": {},
   "source": [
    "Bayesian Optimization is a powerful method for hyperparameter optimization that builds a probabilistic model to predict the performance of different hyperparameters and uses this model to select the best ones. It's more efficient than methods like grid search and random search, especially when the hyperparameter space is large or computationally expensive."
   ]
  },
  {
   "cell_type": "markdown",
   "id": "3e870464-5fe7-4101-a6a5-19637c6a4810",
   "metadata": {},
   "source": [
    "How Bayesian Optimization Works:\n",
    "\n",
    "    Surrogate Model: It uses a surrogate model (often Gaussian Process, GP) to model the objective function. This model predicts the performance of different hyperparameters.\n",
    "    Acquisition Function: It uses an acquisition function (such as Expected Improvement, EI) to guide the search for the next set of hyperparameters by balancing exploration (trying new areas) and exploitation (focusing on promising areas).\n",
    "    Iteration: The process iterates, selecting new hyperparameters to evaluate based on the surrogate model and acquisition function, gradually improving the model's prediction."
   ]
  },
  {
   "cell_type": "code",
   "execution_count": null,
   "id": "e764a014-d0aa-4a1e-ab3e-af72b69a0966",
   "metadata": {},
   "outputs": [],
   "source": [
    "#pip install scikit-optimize"
   ]
  },
  {
   "cell_type": "code",
   "execution_count": 1,
   "id": "bfe74959-72ca-4efc-892d-b5aa52af5e68",
   "metadata": {},
   "outputs": [],
   "source": [
    "from sklearn.datasets import load_wine\n",
    "from sklearn.ensemble import RandomForestClassifier\n",
    "from sklearn.model_selection import train_test_split\n",
    "from sklearn.metrics import classification_report\n",
    "from skopt import BayesSearchCV\n",
    "from skopt.space import Integer, Categorical"
   ]
  },
  {
   "cell_type": "code",
   "execution_count": 2,
   "id": "0aeabe72-8b2c-4ad3-9ca9-e7cbda7b8e78",
   "metadata": {},
   "outputs": [],
   "source": [
    "# Step 1: Load dataset\n",
    "wine = load_wine()\n",
    "X = wine.data\n",
    "y = wine.target\n",
    "\n",
    "# Step 2: Split the dataset into training and test sets\n",
    "X_train, X_test, y_train, y_test = train_test_split(X, y, test_size=0.2, random_state=42)\n",
    "\n",
    "# Step 3: Define the model\n",
    "model = RandomForestClassifier(random_state=42)\n"
   ]
  },
  {
   "cell_type": "code",
   "execution_count": 9,
   "id": "763ee048-cc69-457b-b8c7-05680b9434b7",
   "metadata": {},
   "outputs": [],
   "source": [
    "# Step 4: Define the parameter space for Bayesian Optimization\n",
    "param_space = {\n",
    "    'n_estimators': Integer(50, 200),               # Number of trees\n",
    "    'max_depth': Integer(10, 30),                    # Max depth of the tree\n",
    "    'min_samples_split': Integer(2, 10),             # Min samples required to split\n",
    "    'min_samples_leaf': Integer(1, 5),               # Min samples required to form a leaf\n",
    "    'max_features': Categorical(['sqrt', 'log2', None]),  # Valid options are 'sqrt', 'log2', or None\n",
    "}"
   ]
  },
  {
   "cell_type": "code",
   "execution_count": 10,
   "id": "17668228-93fa-47a0-8b13-5d0a6340548f",
   "metadata": {},
   "outputs": [],
   "source": [
    "# Step 5: Create a Bayesian Optimization object using BayesSearchCV\n",
    "opt = BayesSearchCV(\n",
    "    model,                       # Model to optimize\n",
    "    param_space,                 # Parameter space\n",
    "    n_iter=20,                   # Number of iterations\n",
    "    cv=3,                        # 3-fold cross-validation\n",
    "    n_jobs=-1,                   # Use all cores for computation\n",
    "    scoring='accuracy',         # Use accuracy as the metric\n",
    "    random_state=42\n",
    ")"
   ]
  },
  {
   "cell_type": "code",
   "execution_count": 11,
   "id": "be5ee9a2-7969-4be4-8367-1451a5498511",
   "metadata": {},
   "outputs": [
    {
     "data": {
      "text/html": [
       "<style>#sk-container-id-1 {color: black;}#sk-container-id-1 pre{padding: 0;}#sk-container-id-1 div.sk-toggleable {background-color: white;}#sk-container-id-1 label.sk-toggleable__label {cursor: pointer;display: block;width: 100%;margin-bottom: 0;padding: 0.3em;box-sizing: border-box;text-align: center;}#sk-container-id-1 label.sk-toggleable__label-arrow:before {content: \"▸\";float: left;margin-right: 0.25em;color: #696969;}#sk-container-id-1 label.sk-toggleable__label-arrow:hover:before {color: black;}#sk-container-id-1 div.sk-estimator:hover label.sk-toggleable__label-arrow:before {color: black;}#sk-container-id-1 div.sk-toggleable__content {max-height: 0;max-width: 0;overflow: hidden;text-align: left;background-color: #f0f8ff;}#sk-container-id-1 div.sk-toggleable__content pre {margin: 0.2em;color: black;border-radius: 0.25em;background-color: #f0f8ff;}#sk-container-id-1 input.sk-toggleable__control:checked~div.sk-toggleable__content {max-height: 200px;max-width: 100%;overflow: auto;}#sk-container-id-1 input.sk-toggleable__control:checked~label.sk-toggleable__label-arrow:before {content: \"▾\";}#sk-container-id-1 div.sk-estimator input.sk-toggleable__control:checked~label.sk-toggleable__label {background-color: #d4ebff;}#sk-container-id-1 div.sk-label input.sk-toggleable__control:checked~label.sk-toggleable__label {background-color: #d4ebff;}#sk-container-id-1 input.sk-hidden--visually {border: 0;clip: rect(1px 1px 1px 1px);clip: rect(1px, 1px, 1px, 1px);height: 1px;margin: -1px;overflow: hidden;padding: 0;position: absolute;width: 1px;}#sk-container-id-1 div.sk-estimator {font-family: monospace;background-color: #f0f8ff;border: 1px dotted black;border-radius: 0.25em;box-sizing: border-box;margin-bottom: 0.5em;}#sk-container-id-1 div.sk-estimator:hover {background-color: #d4ebff;}#sk-container-id-1 div.sk-parallel-item::after {content: \"\";width: 100%;border-bottom: 1px solid gray;flex-grow: 1;}#sk-container-id-1 div.sk-label:hover label.sk-toggleable__label {background-color: #d4ebff;}#sk-container-id-1 div.sk-serial::before {content: \"\";position: absolute;border-left: 1px solid gray;box-sizing: border-box;top: 0;bottom: 0;left: 50%;z-index: 0;}#sk-container-id-1 div.sk-serial {display: flex;flex-direction: column;align-items: center;background-color: white;padding-right: 0.2em;padding-left: 0.2em;position: relative;}#sk-container-id-1 div.sk-item {position: relative;z-index: 1;}#sk-container-id-1 div.sk-parallel {display: flex;align-items: stretch;justify-content: center;background-color: white;position: relative;}#sk-container-id-1 div.sk-item::before, #sk-container-id-1 div.sk-parallel-item::before {content: \"\";position: absolute;border-left: 1px solid gray;box-sizing: border-box;top: 0;bottom: 0;left: 50%;z-index: -1;}#sk-container-id-1 div.sk-parallel-item {display: flex;flex-direction: column;z-index: 1;position: relative;background-color: white;}#sk-container-id-1 div.sk-parallel-item:first-child::after {align-self: flex-end;width: 50%;}#sk-container-id-1 div.sk-parallel-item:last-child::after {align-self: flex-start;width: 50%;}#sk-container-id-1 div.sk-parallel-item:only-child::after {width: 0;}#sk-container-id-1 div.sk-dashed-wrapped {border: 1px dashed gray;margin: 0 0.4em 0.5em 0.4em;box-sizing: border-box;padding-bottom: 0.4em;background-color: white;}#sk-container-id-1 div.sk-label label {font-family: monospace;font-weight: bold;display: inline-block;line-height: 1.2em;}#sk-container-id-1 div.sk-label-container {text-align: center;}#sk-container-id-1 div.sk-container {/* jupyter's `normalize.less` sets `[hidden] { display: none; }` but bootstrap.min.css set `[hidden] { display: none !important; }` so we also need the `!important` here to be able to override the default hidden behavior on the sphinx rendered scikit-learn.org. See: https://github.com/scikit-learn/scikit-learn/issues/21755 */display: inline-block !important;position: relative;}#sk-container-id-1 div.sk-text-repr-fallback {display: none;}</style><div id=\"sk-container-id-1\" class=\"sk-top-container\"><div class=\"sk-text-repr-fallback\"><pre>BayesSearchCV(cv=3, estimator=RandomForestClassifier(random_state=42),\n",
       "              n_iter=20, n_jobs=-1, random_state=42, scoring=&#x27;accuracy&#x27;,\n",
       "              search_spaces={&#x27;max_depth&#x27;: Integer(low=10, high=30, prior=&#x27;uniform&#x27;, transform=&#x27;normalize&#x27;),\n",
       "                             &#x27;max_features&#x27;: Categorical(categories=(&#x27;sqrt&#x27;, &#x27;log2&#x27;, None), prior=None),\n",
       "                             &#x27;min_samples_leaf&#x27;: Integer(low=1, high=5, prior=&#x27;uniform&#x27;, transform=&#x27;normalize&#x27;),\n",
       "                             &#x27;min_samples_split&#x27;: Integer(low=2, high=10, prior=&#x27;uniform&#x27;, transform=&#x27;normalize&#x27;),\n",
       "                             &#x27;n_estimators&#x27;: Integer(low=50, high=200, prior=&#x27;uniform&#x27;, transform=&#x27;normalize&#x27;)})</pre><b>In a Jupyter environment, please rerun this cell to show the HTML representation or trust the notebook. <br />On GitHub, the HTML representation is unable to render, please try loading this page with nbviewer.org.</b></div><div class=\"sk-container\" hidden><div class=\"sk-item sk-dashed-wrapped\"><div class=\"sk-label-container\"><div class=\"sk-label sk-toggleable\"><input class=\"sk-toggleable__control sk-hidden--visually\" id=\"sk-estimator-id-1\" type=\"checkbox\" ><label for=\"sk-estimator-id-1\" class=\"sk-toggleable__label sk-toggleable__label-arrow\">BayesSearchCV</label><div class=\"sk-toggleable__content\"><pre>BayesSearchCV(cv=3, estimator=RandomForestClassifier(random_state=42),\n",
       "              n_iter=20, n_jobs=-1, random_state=42, scoring=&#x27;accuracy&#x27;,\n",
       "              search_spaces={&#x27;max_depth&#x27;: Integer(low=10, high=30, prior=&#x27;uniform&#x27;, transform=&#x27;normalize&#x27;),\n",
       "                             &#x27;max_features&#x27;: Categorical(categories=(&#x27;sqrt&#x27;, &#x27;log2&#x27;, None), prior=None),\n",
       "                             &#x27;min_samples_leaf&#x27;: Integer(low=1, high=5, prior=&#x27;uniform&#x27;, transform=&#x27;normalize&#x27;),\n",
       "                             &#x27;min_samples_split&#x27;: Integer(low=2, high=10, prior=&#x27;uniform&#x27;, transform=&#x27;normalize&#x27;),\n",
       "                             &#x27;n_estimators&#x27;: Integer(low=50, high=200, prior=&#x27;uniform&#x27;, transform=&#x27;normalize&#x27;)})</pre></div></div></div><div class=\"sk-parallel\"><div class=\"sk-parallel-item\"><div class=\"sk-item\"><div class=\"sk-label-container\"><div class=\"sk-label sk-toggleable\"><input class=\"sk-toggleable__control sk-hidden--visually\" id=\"sk-estimator-id-2\" type=\"checkbox\" ><label for=\"sk-estimator-id-2\" class=\"sk-toggleable__label sk-toggleable__label-arrow\">estimator: RandomForestClassifier</label><div class=\"sk-toggleable__content\"><pre>RandomForestClassifier(random_state=42)</pre></div></div></div><div class=\"sk-serial\"><div class=\"sk-item\"><div class=\"sk-estimator sk-toggleable\"><input class=\"sk-toggleable__control sk-hidden--visually\" id=\"sk-estimator-id-3\" type=\"checkbox\" ><label for=\"sk-estimator-id-3\" class=\"sk-toggleable__label sk-toggleable__label-arrow\">RandomForestClassifier</label><div class=\"sk-toggleable__content\"><pre>RandomForestClassifier(random_state=42)</pre></div></div></div></div></div></div></div></div></div></div>"
      ],
      "text/plain": [
       "BayesSearchCV(cv=3, estimator=RandomForestClassifier(random_state=42),\n",
       "              n_iter=20, n_jobs=-1, random_state=42, scoring='accuracy',\n",
       "              search_spaces={'max_depth': Integer(low=10, high=30, prior='uniform', transform='normalize'),\n",
       "                             'max_features': Categorical(categories=('sqrt', 'log2', None), prior=None),\n",
       "                             'min_samples_leaf': Integer(low=1, high=5, prior='uniform', transform='normalize'),\n",
       "                             'min_samples_split': Integer(low=2, high=10, prior='uniform', transform='normalize'),\n",
       "                             'n_estimators': Integer(low=50, high=200, prior='uniform', transform='normalize')})"
      ]
     },
     "execution_count": 11,
     "metadata": {},
     "output_type": "execute_result"
    }
   ],
   "source": [
    "# Step 6: Fit the model\n",
    "opt.fit(X_train, y_train)\n"
   ]
  },
  {
   "cell_type": "code",
   "execution_count": 12,
   "id": "1cdc74a5-712d-4e69-a9e0-051e5a84a7a5",
   "metadata": {},
   "outputs": [
    {
     "name": "stdout",
     "output_type": "stream",
     "text": [
      "Best Parameters Found: OrderedDict([('max_depth', 26), ('max_features', 'sqrt'), ('min_samples_leaf', 3), ('min_samples_split', 8), ('n_estimators', 128)])\n"
     ]
    }
   ],
   "source": [
    "# Step 7: Get the best parameters\n",
    "print(\"Best Parameters Found:\", opt.best_params_)"
   ]
  },
  {
   "cell_type": "code",
   "execution_count": 13,
   "id": "0d67b66d-7d77-496d-b759-cecf0aa9d0b7",
   "metadata": {},
   "outputs": [
    {
     "name": "stdout",
     "output_type": "stream",
     "text": [
      "Classification Report:\n",
      "               precision    recall  f1-score   support\n",
      "\n",
      "           0       1.00      1.00      1.00        14\n",
      "           1       1.00      1.00      1.00        14\n",
      "           2       1.00      1.00      1.00         8\n",
      "\n",
      "    accuracy                           1.00        36\n",
      "   macro avg       1.00      1.00      1.00        36\n",
      "weighted avg       1.00      1.00      1.00        36\n",
      "\n"
     ]
    }
   ],
   "source": [
    "# Step 8: Evaluate the model\n",
    "y_pred = opt.predict(X_test)\n",
    "print(\"Classification Report:\\n\", classification_report(y_test, y_pred))"
   ]
  },
  {
   "cell_type": "markdown",
   "id": "151b56b9-12b0-4743-b071-c68b99db04ea",
   "metadata": {},
   "source": [
    "Notes:\n",
    "\n",
    "    n_iter: The number of iterations of optimization to perform. More iterations generally lead to better results but take more time.\n",
    "    cv: Number of cross-validation folds.\n",
    "    Surrogate Model: By default, skopt uses a Gaussian Process as the surrogate model for Bayesian Optimization.\n",
    "    Acquisition Function: The default acquisition function in skopt is \"expected improvement\"."
   ]
  },
  {
   "cell_type": "code",
   "execution_count": null,
   "id": "c32e9bf6-66ec-4e8d-8811-f74a872cf653",
   "metadata": {},
   "outputs": [],
   "source": []
  }
 ],
 "metadata": {
  "kernelspec": {
   "display_name": "Python 3 (ipykernel)",
   "language": "python",
   "name": "python3"
  },
  "language_info": {
   "codemirror_mode": {
    "name": "ipython",
    "version": 3
   },
   "file_extension": ".py",
   "mimetype": "text/x-python",
   "name": "python",
   "nbconvert_exporter": "python",
   "pygments_lexer": "ipython3",
   "version": "3.8.20"
  }
 },
 "nbformat": 4,
 "nbformat_minor": 5
}
