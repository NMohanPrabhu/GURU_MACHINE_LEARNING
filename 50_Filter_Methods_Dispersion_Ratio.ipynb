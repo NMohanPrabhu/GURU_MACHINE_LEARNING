{
 "cells": [
  {
   "cell_type": "markdown",
   "id": "6c3d03c1-dd33-4ed3-97c6-a6c04351d056",
   "metadata": {},
   "source": [
    "<font color=\"red\" size=\"6\"><b>Filter Methods</b></font>\n",
    "<p><font color=\"Yellow\" size=\"5\"><b>8_Dispersion_Ratio</b></font>"
   ]
  },
  {
   "cell_type": "markdown",
   "id": "d2af42c2-6b25-4290-83c1-3a92f0d17992",
   "metadata": {},
   "source": [
    "The Dispersion Ratio is a measure that compares the variability of features in a dataset. It is calculated as the ratio of the standard deviation to the mean for each feature. Dispersion Ratio is often used in feature selection to rank features based on their relative variability.\n",
    "\n",
    "The formula for the Dispersion Ratio is:\n",
    "<font color=\"skyblue\">Dispersion Ratio=σ/μ</font>\n"
   ]
  },
  {
   "cell_type": "code",
   "execution_count": 1,
   "id": "f5ba645e-7bdb-4951-b496-d5fd3842c887",
   "metadata": {},
   "outputs": [
    {
     "name": "stdout",
     "output_type": "stream",
     "text": [
      "Features Ranked by Dispersion Ratio:\n",
      "                         Feature  Dispersion Ratio\n",
      "0                     flavanoids          0.490841\n",
      "1                     malic_acid          0.476814\n",
      "2                color_intensity          0.457043\n",
      "3                        proline          0.420437\n",
      "4                proanthocyanins          0.358759\n",
      "5           nonflavanoid_phenols          0.342965\n",
      "6                  total_phenols          0.271922\n",
      "7   od280/od315_of_diluted_wines          0.271087\n",
      "8                            hue          0.238058\n",
      "9              alcalinity_of_ash          0.170822\n",
      "10                     magnesium          0.142792\n",
      "11                           ash          0.115601\n",
      "12                       alcohol          0.062270\n",
      "\n",
      "Selected Features Based on Dispersion Ratio Threshold:\n",
      "['flavanoids', 'malic_acid', 'color_intensity', 'proline', 'proanthocyanins', 'nonflavanoid_phenols']\n"
     ]
    }
   ],
   "source": [
    "import pandas as pd\n",
    "import numpy as np\n",
    "from sklearn.datasets import load_wine\n",
    "\n",
    "# Load the Wine dataset\n",
    "data = load_wine()\n",
    "X = pd.DataFrame(data.data, columns=data.feature_names)  # Features as a DataFrame\n",
    "y = data.target  # Target variable\n",
    "\n",
    "# Step 1: Calculate the Dispersion Ratio for each feature\n",
    "def dispersion_ratio(column):\n",
    "    std_dev = np.std(column)  # Standard deviation\n",
    "    mean = np.mean(column)  # Mean\n",
    "    return std_dev / mean if mean != 0 else 0  # Avoid division by zero\n",
    "\n",
    "# Apply the Dispersion Ratio calculation to each feature\n",
    "dispersion_ratios = X.apply(dispersion_ratio, axis=0)\n",
    "\n",
    "# Step 2: Create a DataFrame for Dispersion Ratios and rank features\n",
    "dispersion_df = pd.DataFrame({\n",
    "    'Feature': X.columns,\n",
    "    'Dispersion Ratio': dispersion_ratios\n",
    "})\n",
    "dispersion_df = dispersion_df.sort_values(by='Dispersion Ratio', ascending=False).reset_index(drop=True)\n",
    "\n",
    "# Display features ranked by Dispersion Ratio\n",
    "print(\"Features Ranked by Dispersion Ratio:\")\n",
    "print(dispersion_df)\n",
    "\n",
    "# Step 3: Select features based on a threshold (e.g., top N features or a dispersion ratio threshold)\n",
    "threshold = dispersion_ratios.mean()  # Use mean Dispersion Ratio as a threshold\n",
    "selected_features = dispersion_df[dispersion_df['Dispersion Ratio'] > threshold]['Feature'].tolist()\n",
    "\n",
    "print(\"\\nSelected Features Based on Dispersion Ratio Threshold:\")\n",
    "print(selected_features)\n"
   ]
  },
  {
   "cell_type": "code",
   "execution_count": null,
   "id": "ffa34936-6f71-4f1f-ad5e-affcbbe660ec",
   "metadata": {},
   "outputs": [],
   "source": []
  }
 ],
 "metadata": {
  "kernelspec": {
   "display_name": "Python 3 (ipykernel)",
   "language": "python",
   "name": "python3"
  },
  "language_info": {
   "codemirror_mode": {
    "name": "ipython",
    "version": 3
   },
   "file_extension": ".py",
   "mimetype": "text/x-python",
   "name": "python",
   "nbconvert_exporter": "python",
   "pygments_lexer": "ipython3",
   "version": "3.8.20"
  }
 },
 "nbformat": 4,
 "nbformat_minor": 5
}
