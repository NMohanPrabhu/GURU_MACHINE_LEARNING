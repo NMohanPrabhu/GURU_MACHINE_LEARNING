{
 "cells": [
  {
   "cell_type": "markdown",
   "id": "9c6556b9-b424-4a7b-8928-406f38a82b37",
   "metadata": {},
   "source": [
    "<font color=\"red\" size=\"6\">Techniques for handling imbalanced datasets</font>\n",
    "<P><font color=\"yELLOW\" size=\"5\"><B>2_SMOTE (Synthetic Minority Over-sampling Technique)</font>"
   ]
  },
  {
   "cell_type": "markdown",
   "id": "1e7f329d-40c5-4c7d-8875-5abc3f5a230e",
   "metadata": {},
   "source": [
    "SMOTE (Synthetic Minority Over-sampling Technique) from the imbalanced-learn library. SMOTE is a technique for generating synthetic samples of the minority class to balance an imbalanced dataset.\n"
   ]
  },
  {
   "cell_type": "markdown",
   "id": "24c28e16-40a1-4425-af6a-4bc17be2aa32",
   "metadata": {},
   "source": [
    "<font color=\"pink\" size=4>SMOTE Overview:</font>\n",
    "<ol>\n",
    "    <li>SMOTE works by creating synthetic samples for the minority class rather than just duplicating the existing minority class samples (as in RandomOverSampler).</li>\n",
    "    <li>It generates synthetic samples by selecting two or more nearest neighbors of the minority class samples and interpolating between them.</li></ol>"
   ]
  },
  {
   "cell_type": "code",
   "execution_count": 2,
   "id": "ffac874c-288f-4615-943d-e57ab672f055",
   "metadata": {},
   "outputs": [
    {
     "name": "stdout",
     "output_type": "stream",
     "text": [
      "Class distribution before SMOTE: Counter({0: 898, 1: 102})\n",
      "Class distribution after SMOTE: Counter({0: 898, 1: 898})\n",
      "              precision    recall  f1-score   support\n",
      "\n",
      "           0       0.95      0.96      0.96       265\n",
      "           1       0.96      0.96      0.96       274\n",
      "\n",
      "    accuracy                           0.96       539\n",
      "   macro avg       0.96      0.96      0.96       539\n",
      "weighted avg       0.96      0.96      0.96       539\n",
      "\n"
     ]
    }
   ],
   "source": [
    "import numpy as np\n",
    "import pandas as pd\n",
    "from imblearn.over_sampling import SMOTE\n",
    "from sklearn.datasets import make_classification\n",
    "from collections import Counter\n",
    "from sklearn.model_selection import train_test_split\n",
    "from sklearn.ensemble import RandomForestClassifier\n",
    "from sklearn.metrics import classification_report\n",
    "\n",
    "# Step 1: Create an imbalanced dataset\n",
    "X, y = make_classification(n_samples=1000, n_features=20, n_informative=2, \n",
    "                            n_redundant=10, n_classes=2, weights=[0.9, 0.1], \n",
    "                            random_state=42)\n",
    "\n",
    "# Step 2: Check the class distribution before applying SMOTE\n",
    "print(\"Class distribution before SMOTE:\", Counter(y))\n",
    "\n",
    "# Step 3: Apply SMOTE to oversample the minority class\n",
    "smote = SMOTE(random_state=42)\n",
    "X_resampled, y_resampled = smote.fit_resample(X, y)\n",
    "\n",
    "# Step 4: Check the class distribution after applying SMOTE\n",
    "print(\"Class distribution after SMOTE:\", Counter(y_resampled))\n",
    "\n",
    "# Step 5: Split the data into training and testing sets\n",
    "X_train, X_test, y_train, y_test = train_test_split(X_resampled, y_resampled, \n",
    "                                                    test_size=0.3, random_state=42)\n",
    "\n",
    "# Step 6: Train a classifier (RandomForest) on the resampled data\n",
    "clf = RandomForestClassifier(random_state=42)\n",
    "clf.fit(X_train, y_train)\n",
    "\n",
    "# Step 7: Evaluate the classifier\n",
    "y_pred = clf.predict(X_test)\n",
    "print(classification_report(y_test, y_pred))\n"
   ]
  },
  {
   "cell_type": "markdown",
   "id": "2395cce0-f601-42dc-b374-d0f5646e002e",
   "metadata": {},
   "source": [
    "<font color=\"pink\" size=4>Advantages of SMOTE:</font>\n",
    "<ol>\n",
    "    <li><font color=\"orange\">Synthetic Samples:</font> Unlike random oversampling, SMOTE creates new, synthetic samples rather than just duplicating the minority class samples.</li>\n",
    "    <li><font color=\"orange\">Improves Performance:</font> By generating synthetic data points, SMOTE helps the classifier to generalize better, especially in imbalanced datasets.</li>\n",
    "    <li><font color=\"orange\">Balances the Dataset:</font> SMOTE effectively balances the dataset, leading to more balanced performance across classes.</li></ol>\n",
    "\n",
    "<font color=\"pink\" size=4>Drawbacks of SMOTE:</font>\n",
    "<ol>\n",
    "    <li><font color=\"orange\">Risk of Overfitting:</font> As SMOTE generates synthetic samples based on existing data, it could lead to overfitting if the model learns to memorize the synthetic data.</li>\n",
    "    <li><font color=\"orange\">Noise in the Data:</font> SMOTE could generate synthetic samples in noisy or less meaningful areas of the feature space, potentially harming model performance.</li>\n",
    "    <li><font color=\"orange\">Computationally Expensive:</font> SMOTE may be more computationally expensive than simple oversampling techniques, especially for large datasets.</li></ol>"
   ]
  },
  {
   "cell_type": "code",
   "execution_count": null,
   "id": "ed005d99-5949-419c-903a-fa1377b41099",
   "metadata": {},
   "outputs": [],
   "source": []
  }
 ],
 "metadata": {
  "kernelspec": {
   "display_name": "Python 3 (ipykernel)",
   "language": "python",
   "name": "python3"
  },
  "language_info": {
   "codemirror_mode": {
    "name": "ipython",
    "version": 3
   },
   "file_extension": ".py",
   "mimetype": "text/x-python",
   "name": "python",
   "nbconvert_exporter": "python",
   "pygments_lexer": "ipython3",
   "version": "3.8.20"
  }
 },
 "nbformat": 4,
 "nbformat_minor": 5
}
