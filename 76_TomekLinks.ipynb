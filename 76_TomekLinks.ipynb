{
 "cells": [
  {
   "cell_type": "markdown",
   "id": "23cc0dc8-5705-4b2b-bcd0-e5e037eda54a",
   "metadata": {},
   "source": [
    "<font color=\"red\" size=\"6\">Undersampling Methods</font>\n",
    "<p><font color=\"yellow\" size=\"5\"><b>2_TomekLinks</b></font></p>"
   ]
  },
  {
   "cell_type": "markdown",
   "id": "dd2af071-b3c8-4c84-a551-e6c498ec1200",
   "metadata": {},
   "source": [
    "Tomek Links is a technique used to clean up a dataset by removing ambiguous or borderline samples between the minority and majority classes. It is an under-sampling method that aims to improve class separability by identifying pairs of nearest neighbors from different classes and removing the majority class samples from these pairs. This helps to clean the decision boundary by eliminating noisy or borderline instances that might cause confusion for classifiers."
   ]
  },
  {
   "cell_type": "markdown",
   "id": "50b265e5-24e1-4c09-9bfc-9cabcdff34e1",
   "metadata": {},
   "source": [
    "<font color=\"pink\" size=4>How Tomek Links Work:</font>\n",
    "<ol>\n",
    "    <li><font color=\"orange\">Find Nearest Neighbors:</font>\n",
    "       <ol><li>The first step in identifying a Tomek Link is to calculate the nearest neighbor for each sample in the dataset.</li></ol></li>\n",
    "    <li><font color=\"orange\">Identify Pairs:</font>\n",
    "        <ol><li>If two points are nearest neighbors and belong to different classes (i.e., one is from the minority class and the other is from the majority class), then they are termed as a Tomek Link.</li></ol></li>\n",
    "    <li><font color=\"orange\">Remove Majority Class Instances:</font>\n",
    "       <ol><li> After identifying the Tomek Links, the algorithm removes the majority class instance from each link. This helps to clean the decision boundary by removing noisy or ambiguous samples.</li></ol></ol></li>"
   ]
  },
  {
   "cell_type": "code",
   "execution_count": 2,
   "id": "bd740bd4-3a90-4dca-8e2f-64350a320867",
   "metadata": {},
   "outputs": [
    {
     "name": "stdout",
     "output_type": "stream",
     "text": [
      "Class distribution before TomekLinks: Counter({0: 898, 1: 102})\n",
      "Class distribution after TomekLinks: Counter({0: 889, 1: 102})\n",
      "              precision    recall  f1-score   support\n",
      "\n",
      "           0       0.96      1.00      0.98       267\n",
      "           1       0.95      0.65      0.77        31\n",
      "\n",
      "    accuracy                           0.96       298\n",
      "   macro avg       0.96      0.82      0.87       298\n",
      "weighted avg       0.96      0.96      0.96       298\n",
      "\n"
     ]
    }
   ],
   "source": [
    "import numpy as np\n",
    "from imblearn.under_sampling import TomekLinks\n",
    "from sklearn.datasets import make_classification\n",
    "from collections import Counter\n",
    "from sklearn.model_selection import train_test_split\n",
    "from sklearn.ensemble import RandomForestClassifier\n",
    "from sklearn.metrics import classification_report\n",
    "\n",
    "# Step 1: Create an imbalanced dataset\n",
    "X, y = make_classification(n_samples=1000, n_features=20, n_informative=2, \n",
    "                            n_redundant=10, n_classes=2, weights=[0.9, 0.1], \n",
    "                            random_state=42)\n",
    "\n",
    "# Step 2: Check the class distribution before applying TomekLinks\n",
    "print(\"Class distribution before TomekLinks:\", Counter(y))\n",
    "\n",
    "# Step 3: Apply TomekLinks to clean the dataset\n",
    "tomek = TomekLinks()\n",
    "X_resampled, y_resampled = tomek.fit_resample(X, y)\n",
    "\n",
    "# Step 4: Check the class distribution after applying TomekLinks\n",
    "print(\"Class distribution after TomekLinks:\", Counter(y_resampled))\n",
    "\n",
    "# Step 5: Split the data into training and testing sets\n",
    "X_train, X_test, y_train, y_test = train_test_split(X_resampled, y_resampled, \n",
    "                                                    test_size=0.3, random_state=42)\n",
    "\n",
    "# Step 6: Train a classifier (RandomForest) on the resampled data\n",
    "clf = RandomForestClassifier(random_state=42)\n",
    "clf.fit(X_train, y_train)\n",
    "\n",
    "# Step 7: Evaluate the classifier\n",
    "y_pred = clf.predict(X_test)\n",
    "print(classification_report(y_test, y_pred))\n"
   ]
  },
  {
   "cell_type": "markdown",
   "id": "72b5c262-8fed-47dd-b17d-74571a31301a",
   "metadata": {},
   "source": [
    "<font color=\"pink\" size=4>Advantages of Tomek Links:</font>\n",
    "<ol>\n",
    "    <li><font color=\"orange\">Improves Decision Boundary:</font> By removing borderline instances that are ambiguous or noisy, Tomek Links helps clean the decision boundary between classes.</li>\n",
    "    <li><font color=\"orange\">No Synthetic Data Generation:</font> Unlike methods like SMOTE, Tomek Links doesn't generate synthetic data. Instead, it focuses on cleaning the existing data.</li>\n",
    "    <li><font color=\"orange\">Simple and Efficient:</font> It's a simple technique to implement and can be useful for improving classifier performance without overcomplicating the dataset.</li></ol>\n",
    "\n",
    "<font color=\"pink\" size=4>Drawbacks of Tomek Links:</font>\n",
    "<ol>\n",
    "    <li><font color=\"orange\">Loss of Majority Class Data:</font> Removing samples from the majority class might lead to a loss of important information.</li>\n",
    "    <li><font color=\"orange\">Limited Effectiveness:</font> Tomek Links only works in cases where the decision boundary between the classes is not well-defined or is noisy. If the boundary is clear, Tomek Links may have limited impact.</li>\n",
    "    <li><font color=\"orange\">Doesn't Address Under-sampling Bias:</font> While it reduces noise, it doesn’t directly balance the class distribution as other methods like SMOTE or RandomUnderSampler do.</li></ol>"
   ]
  },
  {
   "cell_type": "code",
   "execution_count": null,
   "id": "bed7e025-37fa-454e-99a2-80de462fb462",
   "metadata": {},
   "outputs": [],
   "source": []
  }
 ],
 "metadata": {
  "kernelspec": {
   "display_name": "Python 3 (ipykernel)",
   "language": "python",
   "name": "python3"
  },
  "language_info": {
   "codemirror_mode": {
    "name": "ipython",
    "version": 3
   },
   "file_extension": ".py",
   "mimetype": "text/x-python",
   "name": "python",
   "nbconvert_exporter": "python",
   "pygments_lexer": "ipython3",
   "version": "3.8.20"
  }
 },
 "nbformat": 4,
 "nbformat_minor": 5
}
