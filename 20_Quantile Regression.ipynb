{
 "cells": [
  {
   "cell_type": "markdown",
   "id": "a0c8d0a2-7d73-46a0-bbcc-2c59c04ccc9a",
   "metadata": {},
   "source": [
    "<P> <B> <font color=red size=\"4\"> Quantile Regression</Font></B> </P>"
   ]
  },
  {
   "cell_type": "markdown",
   "id": "16dc097b-1922-4294-b28a-be90a3f820e3",
   "metadata": {},
   "source": [
    "Quantile Regression is a type of regression analysis used to estimate the conditional quantiles (e.g., median or other percentiles) of the response variable. Unlike traditional linear regression, which estimates the conditional mean of the response, quantile regression is useful when you are interested in modeling the distribution of the response variable at different quantiles.\n",
    "\n",
    "<b>Quantile regression is particularly valuable when:</b>\n",
    "\n",
    " <ol>  <li> The relationship between predictors and the response is not uniform across the distribution.</li>\n",
    "  <li>  You want robust regression models that are less sensitive to outliers (e.g., using the median, the 50th quantile).</li></ol>"
   ]
  },
  {
   "cell_type": "code",
   "execution_count": 1,
   "id": "857f8c4a-064a-49f8-8125-7b1fb36ea971",
   "metadata": {},
   "outputs": [],
   "source": [
    "import numpy as np\n",
    "import pandas as pd\n",
    "from sklearn.datasets import load_wine\n",
    "from sklearn.model_selection import train_test_split\n",
    "from sklearn.preprocessing import StandardScaler\n",
    "import statsmodels.api as sm\n",
    "import matplotlib.pyplot as plt"
   ]
  },
  {
   "cell_type": "code",
   "execution_count": 3,
   "id": "8f795093-74ce-47a2-98fe-8899be52c459",
   "metadata": {},
   "outputs": [],
   "source": [
    "# Load the wine dataset\n",
    "wine = load_wine()\n",
    "X = wine.data\n",
    "y = wine.target\n"
   ]
  },
  {
   "cell_type": "code",
   "execution_count": 4,
   "id": "fcfbfc7b-5145-4296-8c06-259c27ab4fd6",
   "metadata": {},
   "outputs": [],
   "source": [
    "# Convert the target to a continuous variable (for regression purposes)\n",
    "y_continuous = y + 0.1 * X[:, 0]"
   ]
  },
  {
   "cell_type": "code",
   "execution_count": 5,
   "id": "bfd0bbf8-2627-4447-98f5-5e35fe6b8477",
   "metadata": {},
   "outputs": [],
   "source": [
    "# Convert to a DataFrame for statsmodels\n",
    "df = pd.DataFrame(X, columns=wine.feature_names)\n",
    "df['target'] = y_continuous"
   ]
  },
  {
   "cell_type": "code",
   "execution_count": 6,
   "id": "daabe3a2-fdcc-4ce3-8fed-6064b040c1f6",
   "metadata": {},
   "outputs": [],
   "source": [
    "# Split the data into training and testing sets\n",
    "train_df, test_df = train_test_split(df, test_size=0.2, random_state=42)"
   ]
  },
  {
   "cell_type": "code",
   "execution_count": 7,
   "id": "c0afb5a6-6b2c-4377-a51a-98e3ca078b15",
   "metadata": {},
   "outputs": [],
   "source": [
    "# Separate predictors and target\n",
    "X_train = train_df[wine.feature_names]\n",
    "y_train = train_df['target']\n",
    "X_test = test_df[wine.feature_names]\n",
    "y_test = test_df['target']"
   ]
  },
  {
   "cell_type": "code",
   "execution_count": 8,
   "id": "ec47f143-921c-4959-8ab0-f59a523ff862",
   "metadata": {},
   "outputs": [],
   "source": [
    "# Standardize the predictors\n",
    "scaler = StandardScaler()\n",
    "X_train_scaled = scaler.fit_transform(X_train)\n",
    "X_test_scaled = scaler.transform(X_test)\n"
   ]
  },
  {
   "cell_type": "code",
   "execution_count": 9,
   "id": "fad42993-2f27-455d-8b3e-564ef149d881",
   "metadata": {},
   "outputs": [],
   "source": [
    "# Add a constant for statsmodels\n",
    "X_train_scaled = sm.add_constant(X_train_scaled)\n",
    "X_test_scaled = sm.add_constant(X_test_scaled)"
   ]
  },
  {
   "cell_type": "markdown",
   "id": "b4048be2-4e44-4fd3-ae9e-b35e38169a3c",
   "metadata": {},
   "source": [
    "<b>Quantile:</b>\n",
    "\n",
    "    q=0.5 specifies the median (50th percentile). Adjust q to model other quantiles (e.g., q=0.25 for the 25th percentile or q=0.75 for the 75th percentile)."
   ]
  },
  {
   "cell_type": "code",
   "execution_count": 10,
   "id": "b303a96f-2980-43d9-b8f9-8a1bcbb43928",
   "metadata": {},
   "outputs": [],
   "source": [
    "# Fit a Quantile Regression model for the 50th percentile (median)\n",
    "quantile = 0.5\n",
    "model = sm.QuantReg(y_train, X_train_scaled)\n",
    "result = model.fit(q=quantile)\n"
   ]
  },
  {
   "cell_type": "code",
   "execution_count": 11,
   "id": "b154ef7b-30e3-4167-b3f2-7ab82be54f65",
   "metadata": {},
   "outputs": [
    {
     "name": "stdout",
     "output_type": "stream",
     "text": [
      "                         QuantReg Regression Results                          \n",
      "==============================================================================\n",
      "Dep. Variable:                 target   Pseudo R-squared:               0.6879\n",
      "Model:                       QuantReg   Bandwidth:                      0.2043\n",
      "Method:                 Least Squares   Sparsity:                       0.5987\n",
      "Date:                Sun, 12 Jan 2025   No. Observations:                  142\n",
      "Time:                        16:37:17   Df Residuals:                      128\n",
      "                                        Df Model:                           13\n",
      "==============================================================================\n",
      "                 coef    std err          t      P>|t|      [0.025      0.975]\n",
      "------------------------------------------------------------------------------\n",
      "const          2.2327      0.025     88.874      0.000       2.183       2.282\n",
      "x1            -0.0242      0.038     -0.636      0.526      -0.099       0.051\n",
      "x2             0.0581      0.032      1.819      0.071      -0.005       0.121\n",
      "x3            -0.0770      0.038     -2.013      0.046      -0.153      -0.001\n",
      "x4             0.1142      0.039      2.912      0.004       0.037       0.192\n",
      "x5            -0.0186      0.030     -0.631      0.529      -0.077       0.040\n",
      "x6             0.1517      0.050      3.041      0.003       0.053       0.250\n",
      "x7            -0.4539      0.065     -6.963      0.000      -0.583      -0.325\n",
      "x8            -0.0511      0.034     -1.525      0.130      -0.117       0.015\n",
      "x9            -0.0017      0.035     -0.047      0.962      -0.072       0.069\n",
      "x10            0.1676      0.045      3.731      0.000       0.079       0.257\n",
      "x11           -0.0253      0.040     -0.632      0.529      -0.104       0.054\n",
      "x12           -0.1768      0.051     -3.491      0.001      -0.277      -0.077\n",
      "x13           -0.1838      0.041     -4.452      0.000      -0.265      -0.102\n",
      "==============================================================================\n"
     ]
    }
   ],
   "source": [
    "# Display the summary\n",
    "print(result.summary())\n"
   ]
  },
  {
   "cell_type": "code",
   "execution_count": 12,
   "id": "a5a9c6cb-8c48-4a3b-acba-8a2e7b12393e",
   "metadata": {},
   "outputs": [],
   "source": [
    "# Make predictions\n",
    "y_pred_test = result.predict(X_test_scaled)"
   ]
  },
  {
   "cell_type": "code",
   "execution_count": 13,
   "id": "916ad246-b8c6-4999-8853-1d9689255383",
   "metadata": {},
   "outputs": [
    {
     "name": "stdout",
     "output_type": "stream",
     "text": [
      "Mean Absolute Error (MAE) for Quantile Regression: 0.2035\n"
     ]
    }
   ],
   "source": [
    "# Evaluate the model: Mean Absolute Error for Quantile Regression\n",
    "mae = np.mean(np.abs(y_test - y_pred_test))\n",
    "print(f\"Mean Absolute Error (MAE) for Quantile Regression: {mae:.4f}\")"
   ]
  },
  {
   "cell_type": "code",
   "execution_count": 14,
   "id": "f1c31151-4820-4ee4-b6df-5a29ff150734",
   "metadata": {},
   "outputs": [
    {
     "data": {
      "image/png": "[encoded data removed]",
      "text/plain": [
       "<Figure size 800x600 with 1 Axes>"
      ]
     },
     "metadata": {},
     "output_type": "display_data"
    }
   ],
   "source": [
    "# Visualize predictions vs true values\n",
    "plt.figure(figsize=(8, 6))\n",
    "plt.scatter(y_test, y_pred_test, c='blue', alpha=0.7, label='Predictions')\n",
    "plt.plot([y_test.min(), y_test.max()], [y_test.min(), y_test.max()], 'r--', label='Ideal Fit')\n",
    "plt.xlabel('True Values')\n",
    "plt.ylabel('Predicted Values')\n",
    "plt.title(f'Quantile Regression (Quantile: {quantile}) - Predictions vs True Values')\n",
    "plt.legend()\n",
    "plt.show()"
   ]
  },
  {
   "cell_type": "markdown",
   "id": "62897b91-926b-4f1c-9c69-53625e6ab532",
   "metadata": {},
   "source": [
    "<b>When to Use Quantile Regression:</b>\n",
    "\n",
    "   <b> <li> Non-Uniform Relationships: </li></b>\n",
    "        When the relationship between predictors and response varies at different quantiles (e.g., extreme values behave differently than the median).\n",
    "\n",
    " <b>   <li>Outlier Sensitivity: </li></b>\n",
    "        For robust modeling of the median or other quantiles when outliers in the dataset might distort the results of ordinary least squares regression.\n",
    "\n",
    " <b>   <li>Distribution Analysis: </li></b>\n",
    "        When you are interested in understanding the conditional distribution of the response variable (e.g., predicting the lower or upper bounds)."
   ]
  },
  {
   "cell_type": "code",
   "execution_count": null,
   "id": "43abd122-effe-4aac-8bef-d31732690c63",
   "metadata": {},
   "outputs": [],
   "source": []
  }
 ],
 "metadata": {
  "kernelspec": {
   "display_name": "Python 3 (ipykernel)",
   "language": "python",
   "name": "python3"
  },
  "language_info": {
   "codemirror_mode": {
    "name": "ipython",
    "version": 3
   },
   "file_extension": ".py",
   "mimetype": "text/x-python",
   "name": "python",
   "nbconvert_exporter": "python",
   "pygments_lexer": "ipython3",
   "version": "3.8.18"
  }
 },
 "nbformat": 4,
 "nbformat_minor": 5
}
