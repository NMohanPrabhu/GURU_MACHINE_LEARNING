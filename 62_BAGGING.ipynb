{
 "cells": [
  {
   "cell_type": "markdown",
   "id": "7caa09f3-4fc3-4f82-920e-f398f661279c",
   "metadata": {},
   "source": [
    "<font color=\"red\" size=\"6\">Ensemble methods</font>\n",
    "<p> <font color=\"Yellow\" size=\"5\"><b>1_BAGGING</font>"
   ]
  },
  {
   "cell_type": "markdown",
   "id": "71e94b8a-28a3-4c98-a2b8-325d459776a0",
   "metadata": {},
   "source": [
    "Ensemble methods are highly powerful tools, as they generally lead to improved model accuracy, robustness, and generalization compared to individual models. However, they can also be computationally expensive, especially for large datasets or many base learners."
   ]
  },
  {
   "cell_type": "markdown",
   "id": "7e12401c-3980-479d-b133-c7a4b7c2aa38",
   "metadata": {},
   "source": [
    "Bagging (Bootstrap Aggregating) is an ensemble method in machine learning designed to improve the performance of machine learning algorithms by reducing variance and preventing overfitting. The main idea behind bagging is to combine predictions from multiple base models (typically weak learners) to produce a more accurate and stable prediction."
   ]
  },
  {
   "cell_type": "markdown",
   "id": "1b6dd112-c77f-4be4-a5d3-3e875bbb8eae",
   "metadata": {},
   "source": [
    "<font color=\"pink\" size=4>Key Concepts of Bagging:</font>\n",
    "<ol>\n",
    "   <li> <font color=\"orange\">Bootstrap Sampling:</font>\n",
    "       Bagging uses bootstrap sampling to generate multiple training sets by sampling the data with replacement. This means some samples may be repeated in each subset, while others may be omitted.</li>\n",
    "    <li><font color=\"orange\">Parallel Training:</font>Bagging trains multiple base models (such as decision trees) in parallel, each on a different bootstrap sample of the data.</li>\n",
    "   <li> <font color=\"orange\">Prediction Aggregation:</font>\n",
    "        For classification, bagging combines the predictions of individual models by majority voting.\n",
    "        For regression, bagging combines the predictions by averaging.</li>\n",
    "    <li><font color=\"orange\">Reduces Overfitting:</font>By combining multiple models, bagging reduces the variance of the final model without significantly increasing bias. It is particularly useful when the base model is prone to overfitting (e.g., decision trees).</li><ol/>"
   ]
  },
  {
   "cell_type": "code",
   "execution_count": 1,
   "id": "5eea470b-4c98-41c2-8343-c51c427dc590",
   "metadata": {},
   "outputs": [],
   "source": [
    "from sklearn.datasets import load_wine\n",
    "from sklearn.model_selection import train_test_split\n",
    "from sklearn.ensemble import BaggingClassifier\n",
    "from sklearn.tree import DecisionTreeClassifier\n",
    "from sklearn.metrics import accuracy_score, classification_report, confusion_matrix\n"
   ]
  },
  {
   "cell_type": "code",
   "execution_count": null,
   "id": "975c5262-87ba-45ab-afbb-f01700bc2e6d",
   "metadata": {},
   "outputs": [],
   "source": []
  },
  {
   "cell_type": "code",
   "execution_count": 2,
   "id": "6ccdf427-ad66-43f5-8146-7495854931b7",
   "metadata": {},
   "outputs": [],
   "source": [
    "# 1. Load Wine Dataset\n",
    "data = load_wine()\n",
    "X = data.data\n",
    "y = data.target\n",
    "\n",
    "# 2. Split the dataset into training and testing sets\n",
    "X_train, X_test, y_train, y_test = train_test_split(X, y, test_size=0.3, random_state=42)\n"
   ]
  },
  {
   "cell_type": "code",
   "execution_count": 3,
   "id": "3552539e-b2a2-4c70-8f90-8fbd6c7493ec",
   "metadata": {},
   "outputs": [],
   "source": [
    "# 3. Create the Bagging Classifier using a Decision Tree as the base estimator\n",
    "bagging_model = BaggingClassifier(base_estimator=DecisionTreeClassifier(), n_estimators=100, random_state=42)"
   ]
  },
  {
   "cell_type": "code",
   "execution_count": 7,
   "id": "c218ad4f-24bb-46cc-9249-955d29712b47",
   "metadata": {},
   "outputs": [
    {
     "name": "stderr",
     "output_type": "stream",
     "text": [
      "C:\\Users\\USER\\anaconda3\\envs\\DL_38\\lib\\site-packages\\sklearn\\ensemble\\_base.py:156: FutureWarning: `base_estimator` was renamed to `estimator` in version 1.2 and will be removed in 1.4.\n",
      "  warnings.warn(\n"
     ]
    },
    {
     "data": {
      "text/html": [
       "<style>#sk-container-id-2 {color: black;}#sk-container-id-2 pre{padding: 0;}#sk-container-id-2 div.sk-toggleable {background-color: white;}#sk-container-id-2 label.sk-toggleable__label {cursor: pointer;display: block;width: 100%;margin-bottom: 0;padding: 0.3em;box-sizing: border-box;text-align: center;}#sk-container-id-2 label.sk-toggleable__label-arrow:before {content: \"▸\";float: left;margin-right: 0.25em;color: #696969;}#sk-container-id-2 label.sk-toggleable__label-arrow:hover:before {color: black;}#sk-container-id-2 div.sk-estimator:hover label.sk-toggleable__label-arrow:before {color: black;}#sk-container-id-2 div.sk-toggleable__content {max-height: 0;max-width: 0;overflow: hidden;text-align: left;background-color: #f0f8ff;}#sk-container-id-2 div.sk-toggleable__content pre {margin: 0.2em;color: black;border-radius: 0.25em;background-color: #f0f8ff;}#sk-container-id-2 input.sk-toggleable__control:checked~div.sk-toggleable__content {max-height: 200px;max-width: 100%;overflow: auto;}#sk-container-id-2 input.sk-toggleable__control:checked~label.sk-toggleable__label-arrow:before {content: \"▾\";}#sk-container-id-2 div.sk-estimator input.sk-toggleable__control:checked~label.sk-toggleable__label {background-color: #d4ebff;}#sk-container-id-2 div.sk-label input.sk-toggleable__control:checked~label.sk-toggleable__label {background-color: #d4ebff;}#sk-container-id-2 input.sk-hidden--visually {border: 0;clip: rect(1px 1px 1px 1px);clip: rect(1px, 1px, 1px, 1px);height: 1px;margin: -1px;overflow: hidden;padding: 0;position: absolute;width: 1px;}#sk-container-id-2 div.sk-estimator {font-family: monospace;background-color: #f0f8ff;border: 1px dotted black;border-radius: 0.25em;box-sizing: border-box;margin-bottom: 0.5em;}#sk-container-id-2 div.sk-estimator:hover {background-color: #d4ebff;}#sk-container-id-2 div.sk-parallel-item::after {content: \"\";width: 100%;border-bottom: 1px solid gray;flex-grow: 1;}#sk-container-id-2 div.sk-label:hover label.sk-toggleable__label {background-color: #d4ebff;}#sk-container-id-2 div.sk-serial::before {content: \"\";position: absolute;border-left: 1px solid gray;box-sizing: border-box;top: 0;bottom: 0;left: 50%;z-index: 0;}#sk-container-id-2 div.sk-serial {display: flex;flex-direction: column;align-items: center;background-color: white;padding-right: 0.2em;padding-left: 0.2em;position: relative;}#sk-container-id-2 div.sk-item {position: relative;z-index: 1;}#sk-container-id-2 div.sk-parallel {display: flex;align-items: stretch;justify-content: center;background-color: white;position: relative;}#sk-container-id-2 div.sk-item::before, #sk-container-id-2 div.sk-parallel-item::before {content: \"\";position: absolute;border-left: 1px solid gray;box-sizing: border-box;top: 0;bottom: 0;left: 50%;z-index: -1;}#sk-container-id-2 div.sk-parallel-item {display: flex;flex-direction: column;z-index: 1;position: relative;background-color: white;}#sk-container-id-2 div.sk-parallel-item:first-child::after {align-self: flex-end;width: 50%;}#sk-container-id-2 div.sk-parallel-item:last-child::after {align-self: flex-start;width: 50%;}#sk-container-id-2 div.sk-parallel-item:only-child::after {width: 0;}#sk-container-id-2 div.sk-dashed-wrapped {border: 1px dashed gray;margin: 0 0.4em 0.5em 0.4em;box-sizing: border-box;padding-bottom: 0.4em;background-color: white;}#sk-container-id-2 div.sk-label label {font-family: monospace;font-weight: bold;display: inline-block;line-height: 1.2em;}#sk-container-id-2 div.sk-label-container {text-align: center;}#sk-container-id-2 div.sk-container {/* jupyter's `normalize.less` sets `[hidden] { display: none; }` but bootstrap.min.css set `[hidden] { display: none !important; }` so we also need the `!important` here to be able to override the default hidden behavior on the sphinx rendered scikit-learn.org. See: https://github.com/scikit-learn/scikit-learn/issues/21755 */display: inline-block !important;position: relative;}#sk-container-id-2 div.sk-text-repr-fallback {display: none;}</style><div id=\"sk-container-id-2\" class=\"sk-top-container\"><div class=\"sk-text-repr-fallback\"><pre>BaggingClassifier(base_estimator=DecisionTreeClassifier(), n_estimators=100,\n",
       "                  random_state=42)</pre><b>In a Jupyter environment, please rerun this cell to show the HTML representation or trust the notebook. <br />On GitHub, the HTML representation is unable to render, please try loading this page with nbviewer.org.</b></div><div class=\"sk-container\" hidden><div class=\"sk-item sk-dashed-wrapped\"><div class=\"sk-label-container\"><div class=\"sk-label sk-toggleable\"><input class=\"sk-toggleable__control sk-hidden--visually\" id=\"sk-estimator-id-4\" type=\"checkbox\" ><label for=\"sk-estimator-id-4\" class=\"sk-toggleable__label sk-toggleable__label-arrow\">BaggingClassifier</label><div class=\"sk-toggleable__content\"><pre>BaggingClassifier(base_estimator=DecisionTreeClassifier(), n_estimators=100,\n",
       "                  random_state=42)</pre></div></div></div><div class=\"sk-parallel\"><div class=\"sk-parallel-item\"><div class=\"sk-item\"><div class=\"sk-label-container\"><div class=\"sk-label sk-toggleable\"><input class=\"sk-toggleable__control sk-hidden--visually\" id=\"sk-estimator-id-5\" type=\"checkbox\" ><label for=\"sk-estimator-id-5\" class=\"sk-toggleable__label sk-toggleable__label-arrow\">base_estimator: DecisionTreeClassifier</label><div class=\"sk-toggleable__content\"><pre>DecisionTreeClassifier()</pre></div></div></div><div class=\"sk-serial\"><div class=\"sk-item\"><div class=\"sk-estimator sk-toggleable\"><input class=\"sk-toggleable__control sk-hidden--visually\" id=\"sk-estimator-id-6\" type=\"checkbox\" ><label for=\"sk-estimator-id-6\" class=\"sk-toggleable__label sk-toggleable__label-arrow\">DecisionTreeClassifier</label><div class=\"sk-toggleable__content\"><pre>DecisionTreeClassifier()</pre></div></div></div></div></div></div></div></div></div></div>"
      ],
      "text/plain": [
       "BaggingClassifier(base_estimator=DecisionTreeClassifier(), n_estimators=100,\n",
       "                  random_state=42)"
      ]
     },
     "execution_count": 7,
     "metadata": {},
     "output_type": "execute_result"
    }
   ],
   "source": [
    "# 4. Train the Bagging model\n",
    "bagging_model.fit(X_train, y_train)"
   ]
  },
  {
   "cell_type": "code",
   "execution_count": 5,
   "id": "d6cd5ee9-ef03-43f1-bf8b-00dd50052322",
   "metadata": {},
   "outputs": [],
   "source": [
    "# 5. Make predictions on the test set\n",
    "y_pred = bagging_model.predict(X_test)"
   ]
  },
  {
   "cell_type": "code",
   "execution_count": 6,
   "id": "33315595-9bcd-448b-a8dc-340bec016b7a",
   "metadata": {},
   "outputs": [
    {
     "name": "stdout",
     "output_type": "stream",
     "text": [
      "Accuracy: 0.9630\n",
      "\n",
      "Classification Report:\n",
      "              precision    recall  f1-score   support\n",
      "\n",
      "           0       1.00      0.95      0.97        19\n",
      "           1       0.91      1.00      0.95        21\n",
      "           2       1.00      0.93      0.96        14\n",
      "\n",
      "    accuracy                           0.96        54\n",
      "   macro avg       0.97      0.96      0.96        54\n",
      "weighted avg       0.97      0.96      0.96        54\n",
      "\n",
      "\n",
      "Confusion Matrix:\n",
      "[[18  1  0]\n",
      " [ 0 21  0]\n",
      " [ 0  1 13]]\n"
     ]
    }
   ],
   "source": [
    "# 6. Evaluate the model\n",
    "accuracy = accuracy_score(y_test, y_pred)\n",
    "print(f\"Accuracy: {accuracy:.4f}\")\n",
    "\n",
    "# Display the classification report and confusion matrix for better understanding\n",
    "print(\"\\nClassification Report:\")\n",
    "print(classification_report(y_test, y_pred))\n",
    "\n",
    "print(\"\\nConfusion Matrix:\")\n",
    "print(confusion_matrix(y_test, y_pred))"
   ]
  },
  {
   "cell_type": "markdown",
   "id": "41730954-2895-4434-8304-653f32910c7a",
   "metadata": {},
   "source": [
    "<font color=\"pink\" size=4>Advantages of Bagging:</font>\n",
    "<ol>\n",
    "    <li><font color=\"orange\">Improved Accuracy:</font> By combining multiple models, bagging generally improves predictive performance.</li>\n",
    "    <li><font color=\"orange\">Reduced Overfitting:</font> Bagging reduces the risk of overfitting by averaging over multiple models.</li>\n",
    "    <li><font color=\"orange\">Parallelizable:</font> Since each base model is trained independently, bagging can be parallelized, leading to faster computations when dealing with large datasets.</li>\n",
    "    <li><font color=\"orange\">Robust to Noise:</font> Bagging helps make models more robust against noisy data and small fluctuations in the training set.</li></ol>\n",
    "\n",
    "<font color=\"pink\" size=4>Disadvantages of Bagging:</font>\n",
    "<ol>\n",
    "    <li><font color=\"orange\">Computationally Expensive:</font> Training multiple models in parallel can be computationally expensive, especially with large datasets.</li>\n",
    "    <li><font color=\"orange\">Interpretability:</font> As an ensemble of many models, bagging reduces the interpretability of the resulting model. For example, a Random Forest (a bagging-based model) is harder to interpret than a single decision tree.</li>\n",
    "    <li><font color=\"orange\">Not Useful for All Models:</font> Bagging works best with models that have high variance (e.g., decision trees). For models with low variance, bagging may not provide significant benefits.</li></ol>"
   ]
  },
  {
   "cell_type": "code",
   "execution_count": null,
   "id": "0ef68879-e5f2-4c82-9742-4faad455d94b",
   "metadata": {},
   "outputs": [],
   "source": []
  }
 ],
 "metadata": {
  "kernelspec": {
   "display_name": "Python 3 (ipykernel)",
   "language": "python",
   "name": "python3"
  },
  "language_info": {
   "codemirror_mode": {
    "name": "ipython",
    "version": 3
   },
   "file_extension": ".py",
   "mimetype": "text/x-python",
   "name": "python",
   "nbconvert_exporter": "python",
   "pygments_lexer": "ipython3",
   "version": "3.8.20"
  }
 },
 "nbformat": 4,
 "nbformat_minor": 5
}
