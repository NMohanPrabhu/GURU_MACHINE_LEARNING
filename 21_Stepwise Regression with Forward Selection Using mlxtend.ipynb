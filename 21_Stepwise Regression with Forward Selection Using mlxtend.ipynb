{
 "cells": [
  {
   "cell_type": "markdown",
   "id": "fc749b3d-4dcf-4088-a3d7-f291aed326ff",
   "metadata": {},
   "source": [
    "<P> <B> <font color=red size=\"6\"> Stepwise Regression with Forward Selection Using mlxtend </Font></B> </P>"
   ]
  },
  {
   "cell_type": "markdown",
   "id": "0140ae78-21f3-40b0-baed-01bcca8533cf",
   "metadata": {},
   "source": [
    "<b>The mlxtend library provides a convenient implementation of stepwise regression with forward selection using its SequentialFeatureSelector class. This tool can perform both forward and backward feature selection based on a given metric, such as R², mean squared error, or cross-validation scores.</B>"
   ]
  },
  {
   "cell_type": "code",
   "execution_count": 1,
   "id": "ab56bf1f-a4e7-4102-a6d0-5dc4e87f62b2",
   "metadata": {},
   "outputs": [],
   "source": [
    "from sklearn.datasets import load_wine\n",
    "from sklearn.model_selection import train_test_split\n",
    "from sklearn.linear_model import LinearRegression\n",
    "from sklearn.preprocessing import StandardScaler\n",
    "from sklearn.metrics import mean_squared_error, r2_score\n",
    "from mlxtend.feature_selection import SequentialFeatureSelector as SFS\n",
    "import pandas as pd\n",
    "import numpy as np"
   ]
  },
  {
   "cell_type": "code",
   "execution_count": 2,
   "id": "d5b03885-3fc1-443a-8dbe-97bb60dccfd0",
   "metadata": {},
   "outputs": [],
   "source": [
    "# Load the wine dataset\n",
    "wine = load_wine()\n",
    "X = pd.DataFrame(wine.data, columns=wine.feature_names)\n",
    "y = wine.target + 0.1 * wine.data[:, 0]  # Convert target to continuous for regression"
   ]
  },
  {
   "cell_type": "code",
   "execution_count": 3,
   "id": "774539a0-05ff-4602-a9ce-1dbe6004b3d5",
   "metadata": {},
   "outputs": [],
   "source": [
    "# Split into training and testing sets\n",
    "X_train, X_test, y_train, y_test = train_test_split(X, y, test_size=0.2, random_state=42)"
   ]
  },
  {
   "cell_type": "code",
   "execution_count": 4,
   "id": "be7b66b2-107a-4e5a-9750-a0fae6a687ef",
   "metadata": {},
   "outputs": [],
   "source": [
    "# Standardize the features\n",
    "scaler = StandardScaler()\n",
    "X_train_scaled = scaler.fit_transform(X_train)\n",
    "X_test_scaled = scaler.transform(X_test)\n"
   ]
  },
  {
   "cell_type": "code",
   "execution_count": 5,
   "id": "e25283e7-8a9d-487d-a18f-b09b711c15f1",
   "metadata": {},
   "outputs": [],
   "source": [
    "# Initialize the Linear Regression model\n",
    "lr = LinearRegression()"
   ]
  },
  {
   "cell_type": "markdown",
   "id": "8fca15ed-400b-47b1-b5b9-8cb3593edfed",
   "metadata": {},
   "source": [
    "<b>Sequential Feature Selector:</b>\n",
    "\n",
    "    The SequentialFeatureSelector class from mlxtend performs stepwise selection:\n",
    "        forward=True: Enables forward selection.\n",
    "        floating=False: Disables backward steps; use floating=True for stepwise regression with both forward and backward steps.\n",
    "    scoring='r2': Uses R² as the evaluation metric. You can also use metrics like 'neg_mean_squared_error'.\n",
    "<b>Automatic Feature Selection:</b>\n",
    "\n",
    "    k_features='best': Automatically selects the optimal number of features based on cross-validation.\n",
    "\n",
    "<b>Cross-Validation:</b>\n",
    "\n",
    "    The feature selection process uses 5-fold cross-validation to evaluate the performance of feature subsets."
   ]
  },
  {
   "cell_type": "code",
   "execution_count": 6,
   "id": "f291d7df-96f7-4782-bd77-30ebdff09ffb",
   "metadata": {},
   "outputs": [],
   "source": [
    "# Perform forward selection using mlxtend\n",
    "sfs = SFS(\n",
    "    lr,\n",
    "    k_features='best',  # Automatically determine the best number of features\n",
    "    forward=True,       # Perform forward selection\n",
    "    floating=False,     # Do not allow backward steps\n",
    "    scoring='r2',       # Use R² as the evaluation metric\n",
    "    cv=5,               # 5-fold cross-validation\n",
    "    n_jobs=-1           # Use all available CPU cores\n",
    ")"
   ]
  },
  {
   "cell_type": "code",
   "execution_count": 7,
   "id": "8e968d24-6c84-4182-9329-72cd9efa02c1",
   "metadata": {},
   "outputs": [],
   "source": [
    "# Fit the feature selector\n",
    "sfs = sfs.fit(X_train_scaled, y_train)"
   ]
  },
  {
   "cell_type": "code",
   "execution_count": 8,
   "id": "95473a41-03b1-44de-ae65-1984556c91c1",
   "metadata": {},
   "outputs": [],
   "source": [
    "# Get the selected feature indices and names\n",
    "selected_indices = sfs.k_feature_idx_\n",
    "selected_features = [X.columns[i] for i in selected_indices]"
   ]
  },
  {
   "cell_type": "code",
   "execution_count": 9,
   "id": "f0252560-4864-4c03-9d62-a08fc5cc615e",
   "metadata": {},
   "outputs": [],
   "source": [
    "# Train a model using the selected features\n",
    "X_train_selected = X_train_scaled[:, selected_indices]\n",
    "X_test_selected = X_test_scaled[:, selected_indices]\n",
    "lr.fit(X_train_selected, y_train)\n",
    "y_pred_test = lr.predict(X_test_selected)"
   ]
  },
  {
   "cell_type": "code",
   "execution_count": 10,
   "id": "9ab90365-d6c9-40e4-a9cc-97b00cff978d",
   "metadata": {},
   "outputs": [
    {
     "name": "stdout",
     "output_type": "stream",
     "text": [
      "Selected Features: ['alcohol', 'malic_acid', 'alcalinity_of_ash', 'total_phenols', 'flavanoids', 'nonflavanoid_phenols', 'color_intensity', 'od280/od315_of_diluted_wines', 'proline']\n",
      "Test Set Mean Squared Error: 0.0689\n",
      "Test Set R² Score: 0.8730\n"
     ]
    }
   ],
   "source": [
    "# Evaluate the model\n",
    "mse_test = mean_squared_error(y_test, y_pred_test)\n",
    "r2_test = r2_score(y_test, y_pred_test)\n",
    "\n",
    "print(\"Selected Features:\", selected_features)\n",
    "print(f\"Test Set Mean Squared Error: {mse_test:.4f}\")\n",
    "print(f\"Test Set R² Score: {r2_test:.4f}\")"
   ]
  },
  {
   "cell_type": "markdown",
   "id": "eb89b8ea-6125-4956-a280-23e0b4f0ac08",
   "metadata": {},
   "source": [
    "<b>Customization:</B>\n",
    "\n",
    "    Use floating=True for stepwise regression with both forward and backward steps.\n",
    "    Adjust cv for different levels of cross-validation robustness."
   ]
  },
  {
   "cell_type": "code",
   "execution_count": null,
   "id": "322ea118-25c8-4349-98c0-35e495c6d928",
   "metadata": {},
   "outputs": [],
   "source": []
  }
 ],
 "metadata": {
  "kernelspec": {
   "display_name": "Python 3 (ipykernel)",
   "language": "python",
   "name": "python3"
  },
  "language_info": {
   "codemirror_mode": {
    "name": "ipython",
    "version": 3
   },
   "file_extension": ".py",
   "mimetype": "text/x-python",
   "name": "python",
   "nbconvert_exporter": "python",
   "pygments_lexer": "ipython3",
   "version": "3.8.18"
  }
 },
 "nbformat": 4,
 "nbformat_minor": 5
}
