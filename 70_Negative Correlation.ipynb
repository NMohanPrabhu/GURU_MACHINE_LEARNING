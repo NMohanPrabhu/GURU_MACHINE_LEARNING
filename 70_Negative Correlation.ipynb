{
 "cells": [
  {
   "cell_type": "markdown",
   "id": "601064a8-027d-41f1-9184-793cba200d69",
   "metadata": {},
   "source": [
    "<font color=\"red\" size=\"6\">Ensemble methods</font>\n",
    "<p> <font color=\"Yellow\" size=\"5\"><b>9_Negative Correlation</font>"
   ]
  },
  {
   "cell_type": "markdown",
   "id": "2a90b091-aa32-4a6e-a8a8-5518a4c3aa9a",
   "metadata": {},
   "source": [
    "the concept of Negative Correlation Ensemble (NCE). This technique relies on using base models whose predictions are negatively correlated with each other, which often leads to improved ensemble performance by reducing the overall variance."
   ]
  },
  {
   "cell_type": "markdown",
   "id": "c2cf3589-2719-4ea6-80c4-f51c68b82ac3",
   "metadata": {},
   "source": [
    "<font color=\"pink\" size=4>Steps for Implementing Negative Correlation in Ensemble Learning on Wine Dataset:</font>\n",
    "<ol>\n",
    "    <li>Load the Wine dataset.</li>\n",
    "    <li> Train multiple base models with diverse characteristics (e.g., Decision Trees, K-Nearest Neighbors, etc.).</li>\n",
    "    <li> Calculate the correlation between the predictions of the models.</li>\n",
    "    <li> Combine base models into an ensemble using a method that emphasizes negative correlation (e.g., by selecting models whose predictions are negatively correlated with each other).</li>\n",
    "    <li> Evaluate the ensemble performance.</li></ol>"
   ]
  },
  {
   "cell_type": "code",
   "execution_count": 1,
   "id": "8dd4f9df-8935-4835-be8f-ef18d3e5ba38",
   "metadata": {},
   "outputs": [],
   "source": [
    "import numpy as np\n",
    "import matplotlib.pyplot as plt\n",
    "from sklearn.datasets import load_wine\n",
    "from sklearn.model_selection import train_test_split\n",
    "from sklearn.tree import DecisionTreeClassifier\n",
    "from sklearn.neighbors import KNeighborsClassifier\n",
    "from sklearn.linear_model import LogisticRegression\n",
    "from sklearn.ensemble import VotingClassifier\n",
    "from sklearn.metrics import accuracy_score\n",
    "import seaborn as sns"
   ]
  },
  {
   "cell_type": "code",
   "execution_count": 2,
   "id": "fa925c2e-68ff-41c2-bdfb-178060a779fb",
   "metadata": {},
   "outputs": [
    {
     "name": "stderr",
     "output_type": "stream",
     "text": [
      "C:\\Users\\root\\anaconda3\\envs\\mydl\\lib\\site-packages\\sklearn\\linear_model\\_logistic.py:460: ConvergenceWarning: lbfgs failed to converge (status=1):\n",
      "STOP: TOTAL NO. of ITERATIONS REACHED LIMIT.\n",
      "\n",
      "Increase the number of iterations (max_iter) or scale the data as shown in:\n",
      "    https://scikit-learn.org/stable/modules/preprocessing.html\n",
      "Please also refer to the documentation for alternative solver options:\n",
      "    https://scikit-learn.org/stable/modules/linear_model.html#logistic-regression\n",
      "  n_iter_i = _check_optimize_result(\n"
     ]
    }
   ],
   "source": [
    "# 1. Load the Wine dataset\n",
    "data = load_wine()\n",
    "X = data.data\n",
    "y = data.target\n",
    "\n",
    "# 2. Split the dataset into training and testing sets (80% train, 20% test)\n",
    "X_train, X_test, y_train, y_test = train_test_split(X, y, test_size=0.2, random_state=42)\n",
    "\n",
    "# 3. Define base models\n",
    "model_1 = DecisionTreeClassifier(random_state=42)\n",
    "model_2 = KNeighborsClassifier()\n",
    "model_3 = LogisticRegression(max_iter=1000)\n",
    "\n",
    "# 4. Train the base models\n",
    "model_1.fit(X_train, y_train)\n",
    "model_2.fit(X_train, y_train)\n",
    "model_3.fit(X_train, y_train)\n",
    "\n",
    "# 5. Get predictions from each base model on the test set\n",
    "pred_1 = model_1.predict(X_test)\n",
    "pred_2 = model_2.predict(X_test)\n",
    "pred_3 = model_3.predict(X_test)"
   ]
  },
  {
   "cell_type": "code",
   "execution_count": 3,
   "id": "09effb22-a3b1-43a9-a377-ab0e589315eb",
   "metadata": {},
   "outputs": [],
   "source": [
    "# 6. Compute correlation between the predictions of the models\n",
    "corr_12 = np.corrcoef(pred_1, pred_2)[0, 1]\n",
    "corr_13 = np.corrcoef(pred_1, pred_3)[0, 1]\n",
    "corr_23 = np.corrcoef(pred_2, pred_3)[0, 1]"
   ]
  },
  {
   "cell_type": "code",
   "execution_count": 4,
   "id": "abf94403-728d-4b6c-bca9-24798f1215ec",
   "metadata": {},
   "outputs": [
    {
     "name": "stdout",
     "output_type": "stream",
     "text": [
      "Correlation between Model 1 and Model 2: 0.43\n",
      "Correlation between Model 1 and Model 3: 0.90\n",
      "Correlation between Model 2 and Model 3: 0.54\n"
     ]
    }
   ],
   "source": [
    "print(f\"Correlation between Model 1 and Model 2: {corr_12:.2f}\")\n",
    "print(f\"Correlation between Model 1 and Model 3: {corr_13:.2f}\")\n",
    "print(f\"Correlation between Model 2 and Model 3: {corr_23:.2f}\")"
   ]
  },
  {
   "cell_type": "code",
   "execution_count": 5,
   "id": "214e0790-01d8-4454-9605-5f9de1c6e567",
   "metadata": {},
   "outputs": [],
   "source": [
    "# 7. Create a voting ensemble to combine the base models (voting can help to mitigate correlation effects)\n",
    "ensemble = VotingClassifier(estimators=[('dt', model_1), ('knn', model_2), ('lr', model_3)], voting='hard')\n"
   ]
  },
  {
   "cell_type": "code",
   "execution_count": 6,
   "id": "0b2a6d51-a251-4593-a800-8d7ed9c09912",
   "metadata": {},
   "outputs": [
    {
     "name": "stdout",
     "output_type": "stream",
     "text": [
      "Ensemble Model Accuracy: 0.9722\n"
     ]
    },
    {
     "name": "stderr",
     "output_type": "stream",
     "text": [
      "C:\\Users\\root\\anaconda3\\envs\\mydl\\lib\\site-packages\\sklearn\\linear_model\\_logistic.py:460: ConvergenceWarning: lbfgs failed to converge (status=1):\n",
      "STOP: TOTAL NO. of ITERATIONS REACHED LIMIT.\n",
      "\n",
      "Increase the number of iterations (max_iter) or scale the data as shown in:\n",
      "    https://scikit-learn.org/stable/modules/preprocessing.html\n",
      "Please also refer to the documentation for alternative solver options:\n",
      "    https://scikit-learn.org/stable/modules/linear_model.html#logistic-regression\n",
      "  n_iter_i = _check_optimize_result(\n"
     ]
    }
   ],
   "source": [
    "# 8. Train the ensemble model\n",
    "ensemble.fit(X_train, y_train)\n",
    "\n",
    "# 9. Make predictions with the ensemble\n",
    "ensemble_pred = ensemble.predict(X_test)\n",
    "\n",
    "# 10. Evaluate performance\n",
    "accuracy = accuracy_score(y_test, ensemble_pred)\n",
    "print(f\"Ensemble Model Accuracy: {accuracy:.4f}\")"
   ]
  },
  {
   "cell_type": "code",
   "execution_count": 7,
   "id": "cd8dd7d4-1cde-4a13-aacc-dd6b1ea156d7",
   "metadata": {},
   "outputs": [
    {
     "data": {
      "image/png": "[encoded data removed]",
      "text/plain": [
       "<Figure size 800x600 with 2 Axes>"
      ]
     },
     "metadata": {},
     "output_type": "display_data"
    }
   ],
   "source": [
    "# 11. Visualizing Correlation Matrix of Predictions\n",
    "predictions = np.array([pred_1, pred_2, pred_3])\n",
    "corr_matrix = np.corrcoef(predictions)\n",
    "\n",
    "plt.figure(figsize=(8, 6))\n",
    "sns.heatmap(corr_matrix, annot=True, cmap='coolwarm', xticklabels=['Model 1', 'Model 2', 'Model 3'], yticklabels=['Model 1', 'Model 2', 'Model 3'])\n",
    "plt.title(\"Correlation Matrix of Base Model Predictions\")\n",
    "plt.show()"
   ]
  },
  {
   "cell_type": "code",
   "execution_count": null,
   "id": "c0e5981f-bd98-4917-afba-079619b88ebc",
   "metadata": {},
   "outputs": [],
   "source": []
  }
 ],
 "metadata": {
  "kernelspec": {
   "display_name": "Python 3 (ipykernel)",
   "language": "python",
   "name": "python3"
  },
  "language_info": {
   "codemirror_mode": {
    "name": "ipython",
    "version": 3
   },
   "file_extension": ".py",
   "mimetype": "text/x-python",
   "name": "python",
   "nbconvert_exporter": "python",
   "pygments_lexer": "ipython3",
   "version": "3.8.20"
  }
 },
 "nbformat": 4,
 "nbformat_minor": 5
}
