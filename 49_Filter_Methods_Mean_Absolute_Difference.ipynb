{
 "cells": [
  {
   "cell_type": "markdown",
   "id": "49acd41b-0e7c-4564-8337-6306dead5ef5",
   "metadata": {},
   "source": [
    "<font color=\"red\" size=\"6\"><b>Filter Methods</b></font>\n",
    "<p><font color=\"Yellow\" size=\"5\"><b>7_Mean Absolute Difference (MAD)</b></font>"
   ]
  },
  {
   "cell_type": "code",
   "execution_count": 1,
   "id": "fa2358ba-1983-4eea-963c-317a6adde4cd",
   "metadata": {},
   "outputs": [],
   "source": [
    "import pandas as pd\n",
    "import numpy as np\n",
    "from sklearn.datasets import load_wine"
   ]
  },
  {
   "cell_type": "code",
   "execution_count": 2,
   "id": "e79ef039-3354-4c48-82f0-508d797ce1b9",
   "metadata": {},
   "outputs": [],
   "source": [
    "# Load the Wine dataset\n",
    "data = load_wine()\n",
    "X = pd.DataFrame(data.data, columns=data.feature_names)  # Features as a DataFrame\n",
    "y = data.target  # Target variable"
   ]
  },
  {
   "cell_type": "code",
   "execution_count": 4,
   "id": "c02ff88b-3c10-49b6-b631-d5e3a9f43664",
   "metadata": {},
   "outputs": [],
   "source": [
    "# Step 1: Compute MAD manually for each feature\n",
    "# Formula: MAD = Mean(|x - mean(x)|)\n",
    "mad_values = X.apply(lambda col: np.mean(np.abs(col - col.mean())), axis=0)"
   ]
  },
  {
   "cell_type": "code",
   "execution_count": 5,
   "id": "e3097978-0de9-4d2f-8e63-4e0cfa419f66",
   "metadata": {},
   "outputs": [],
   "source": [
    "# Step 2: Create a DataFrame for MAD values and rank features\n",
    "mad_df = pd.DataFrame({'Feature': X.columns, 'MAD': mad_values})\n",
    "mad_df = mad_df.sort_values(by='MAD', ascending=False).reset_index(drop=True)"
   ]
  },
  {
   "cell_type": "code",
   "execution_count": 6,
   "id": "d4309dbc-c7f6-456f-b836-3546aacd9e1d",
   "metadata": {},
   "outputs": [
    {
     "name": "stdout",
     "output_type": "stream",
     "text": [
      "Features Ranked by MAD:\n",
      "                         Feature         MAD\n",
      "0                        proline  259.332344\n",
      "1                      magnesium   10.999243\n",
      "2              alcalinity_of_ash    2.595001\n",
      "3                color_intensity    1.835831\n",
      "4                     malic_acid    0.920277\n",
      "5                     flavanoids    0.858878\n",
      "6                        alcohol    0.688462\n",
      "7   od280/od315_of_diluted_wines    0.611738\n",
      "8                  total_phenols    0.536288\n",
      "9                proanthocyanins    0.445893\n",
      "10                           ash    0.209208\n",
      "11                           hue    0.186851\n",
      "12          nonflavanoid_phenols    0.104696\n"
     ]
    }
   ],
   "source": [
    "\n",
    "# Display features ranked by MAD values\n",
    "print(\"Features Ranked by MAD:\")\n",
    "print(mad_df)"
   ]
  },
  {
   "cell_type": "code",
   "execution_count": 7,
   "id": "e6ace46b-6c3f-4499-8aab-da666fa1ab2b",
   "metadata": {},
   "outputs": [
    {
     "name": "stdout",
     "output_type": "stream",
     "text": [
      "\n",
      "Selected Features Based on MAD Threshold:\n",
      "['proline']\n"
     ]
    }
   ],
   "source": [
    "# Step 3: Select features based on a threshold (e.g., mean MAD value)\n",
    "threshold = mad_values.mean()  # Define a threshold (mean MAD value in this case)\n",
    "selected_features = mad_df[mad_df['MAD'] > threshold]['Feature'].tolist()\n",
    "\n",
    "print(\"\\nSelected Features Based on MAD Threshold:\")\n",
    "print(selected_features)"
   ]
  },
  {
   "cell_type": "code",
   "execution_count": null,
   "id": "55c61491-c835-4b35-bd98-ba62f28f6fb2",
   "metadata": {},
   "outputs": [],
   "source": []
  }
 ],
 "metadata": {
  "kernelspec": {
   "display_name": "Python 3 (ipykernel)",
   "language": "python",
   "name": "python3"
  },
  "language_info": {
   "codemirror_mode": {
    "name": "ipython",
    "version": 3
   },
   "file_extension": ".py",
   "mimetype": "text/x-python",
   "name": "python",
   "nbconvert_exporter": "python",
   "pygments_lexer": "ipython3",
   "version": "3.8.20"
  }
 },
 "nbformat": 4,
 "nbformat_minor": 5
}
