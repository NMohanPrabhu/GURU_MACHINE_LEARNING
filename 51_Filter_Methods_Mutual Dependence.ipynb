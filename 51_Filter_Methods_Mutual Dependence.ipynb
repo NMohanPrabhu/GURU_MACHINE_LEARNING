{
 "cells": [
  {
   "cell_type": "markdown",
   "id": "d035bac0-e130-43b4-ae7e-47e39573758c",
   "metadata": {},
   "source": [
    "<font color=\"red\" size=\"6\">Filter Methods</font>\n",
    "<p><font color=\"Yellow\" size=\"5\"><b>9_Dispersion_Ratio</b></font>"
   ]
  },
  {
   "cell_type": "markdown",
   "id": "7c3a2c04-ca9b-4c0b-97b8-12442b0ddb81",
   "metadata": {},
   "source": [
    "Mutual Dependence refers to the measure of how dependent two variables are on each other. It quantifies the relationship or dependency between two variables and is often used in feature selection to understand how well one feature predicts another.\n",
    "\n",
    "One popular method to compute Mutual Dependence is by using Mutual Information (MI), which measures the amount of information shared between two variables. Unlike correlation, mutual information can capture non-linear dependencies as well."
   ]
  },
  {
   "cell_type": "markdown",
   "id": "c3109a64-9119-44ec-bc0a-6976e372a3dc",
   "metadata": {},
   "source": []
  },
  {
   "cell_type": "code",
   "execution_count": 1,
   "id": "df6a1992-0b9f-4a6f-9b44-1c2f3f794dda",
   "metadata": {},
   "outputs": [],
   "source": [
    "import numpy as np\n",
    "import pandas as pd\n",
    "from sklearn.datasets import load_wine\n",
    "from sklearn.feature_selection import mutual_info_classif"
   ]
  },
  {
   "cell_type": "code",
   "execution_count": 2,
   "id": "38408ed0-5a67-4629-bcf7-3125c33bee7d",
   "metadata": {},
   "outputs": [],
   "source": [
    "# Load the Wine dataset\n",
    "data = load_wine()\n",
    "X = pd.DataFrame(data.data, columns=data.feature_names)  # Features as a DataFrame\n",
    "y = data.target  # Target variable\n",
    "\n",
    "# Calculate Mutual Information (MI) for each feature with the target\n",
    "mutual_info = mutual_info_classif(X, y)"
   ]
  },
  {
   "cell_type": "code",
   "execution_count": 3,
   "id": "064ebdb2-2ee5-4fe4-970a-166fd76bd81d",
   "metadata": {},
   "outputs": [],
   "source": [
    "# Create a DataFrame for Mutual Information values\n",
    "mi_df = pd.DataFrame({\n",
    "    'Feature': X.columns,\n",
    "    'Mutual Information': mutual_info\n",
    "})\n",
    "mi_df = mi_df.sort_values(by='Mutual Information', ascending=False).reset_index(drop=True)\n"
   ]
  },
  {
   "cell_type": "code",
   "execution_count": 4,
   "id": "1376e78e-21d4-4552-95b3-ba33fc44eec4",
   "metadata": {},
   "outputs": [
    {
     "name": "stdout",
     "output_type": "stream",
     "text": [
      "Features Ranked by Mutual Information:\n",
      "                         Feature  Mutual Information\n",
      "0                     flavanoids            0.671010\n",
      "1                        proline            0.567389\n",
      "2                color_intensity            0.555392\n",
      "3   od280/od315_of_diluted_wines            0.502342\n",
      "4                            hue            0.473096\n",
      "5                        alcohol            0.462069\n",
      "6                  total_phenols            0.416052\n",
      "7              alcalinity_of_ash            0.292887\n",
      "8                proanthocyanins            0.292169\n",
      "9                     malic_acid            0.269178\n",
      "10                     magnesium            0.227955\n",
      "11          nonflavanoid_phenols            0.130595\n",
      "12                           ash            0.070738\n"
     ]
    }
   ],
   "source": [
    "# Display features ranked by Mutual Information\n",
    "print(\"Features Ranked by Mutual Information:\")\n",
    "print(mi_df)"
   ]
  },
  {
   "cell_type": "code",
   "execution_count": 5,
   "id": "d2afdadb-461f-4f31-a207-6bee7eabb1cc",
   "metadata": {},
   "outputs": [
    {
     "name": "stdout",
     "output_type": "stream",
     "text": [
      "\n",
      "Selected Features Based on Mutual Information Threshold:\n",
      "['flavanoids', 'proline', 'color_intensity', 'od280/od315_of_diluted_wines', 'hue', 'alcohol', 'total_phenols']\n"
     ]
    }
   ],
   "source": [
    "# Optional: Select features above a certain MI threshold\n",
    "threshold = np.mean(mutual_info)  # Use mean MI as a threshold\n",
    "selected_features = mi_df[mi_df['Mutual Information'] > threshold]['Feature'].tolist()\n",
    "\n",
    "print(\"\\nSelected Features Based on Mutual Information Threshold:\")\n",
    "print(selected_features)"
   ]
  },
  {
   "cell_type": "code",
   "execution_count": null,
   "id": "090b4388-a172-43f6-a65a-5dd39cf4b978",
   "metadata": {},
   "outputs": [],
   "source": []
  },
  {
   "cell_type": "code",
   "execution_count": null,
   "id": "869936bd-f08a-423b-aa93-5851663d5e15",
   "metadata": {},
   "outputs": [],
   "source": []
  },
  {
   "cell_type": "code",
   "execution_count": null,
   "id": "6ab7fe5c-b5a6-48b4-a62c-e669c518e062",
   "metadata": {},
   "outputs": [],
   "source": []
  },
  {
   "cell_type": "code",
   "execution_count": null,
   "id": "2d8f61ee-1690-4703-a71d-1065183ced55",
   "metadata": {},
   "outputs": [],
   "source": []
  },
  {
   "cell_type": "code",
   "execution_count": null,
   "id": "a02c7833-f17e-4d3f-9117-74d269ee69db",
   "metadata": {},
   "outputs": [],
   "source": []
  }
 ],
 "metadata": {
  "kernelspec": {
   "display_name": "Python 3 (ipykernel)",
   "language": "python",
   "name": "python3"
  },
  "language_info": {
   "codemirror_mode": {
    "name": "ipython",
    "version": 3
   },
   "file_extension": ".py",
   "mimetype": "text/x-python",
   "name": "python",
   "nbconvert_exporter": "python",
   "pygments_lexer": "ipython3",
   "version": "3.8.20"
  }
 },
 "nbformat": 4,
 "nbformat_minor": 5
}
